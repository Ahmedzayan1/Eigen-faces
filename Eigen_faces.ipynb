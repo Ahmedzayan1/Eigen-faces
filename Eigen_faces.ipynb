{
  "cells": [
    {
      "cell_type": "markdown",
      "metadata": {
        "id": "view-in-github",
        "colab_type": "text"
      },
      "source": [
        "<a href=\"https://colab.research.google.com/github/Ahmedzayan1/Eigen-faces/blob/main/Eigen_faces.ipynb\" target=\"_parent\"><img src=\"https://colab.research.google.com/assets/colab-badge.svg\" alt=\"Open In Colab\"/></a>"
      ]
    },
    {
      "cell_type": "markdown",
      "metadata": {
        "id": "9ckAU_8VtODd"
      },
      "source": [
        "#Assignment 1 \n",
        "Omar Ahmed ElSammak 6867<br>\n",
        "Aly Hamdy Ibrahim   6760<br>\n",
        "Ahmed Mohamed Zayan 6714"
      ]
    },
    {
      "cell_type": "markdown",
      "metadata": {
        "id": "UOs7eabyvgCf"
      },
      "source": [
        "## Libraries"
      ]
    },
    {
      "cell_type": "code",
      "execution_count": null,
      "metadata": {
        "id": "zQn8DCJ_rdHu"
      },
      "outputs": [],
      "source": [
        "import pandas as pd\n",
        "import numpy as np\n",
        "import os\n",
        "import glob\n",
        "import cv2 as cv\n",
        "import matplotlib as plt\n",
        "import matplotlib.pyplot as plt\n",
        "from sklearn.neighbors import KNeighborsClassifier\n",
        "from sklearn.metrics import confusion_matrix\n",
        "from mlxtend.plotting import plot_confusion_matrix\n",
        "from sklearn.metrics import classification_report\n",
        "from sklearn.model_selection import train_test_split"
      ]
    },
    {
      "cell_type": "markdown",
      "metadata": {
        "id": "N35edztLvhq4"
      },
      "source": [
        "## 1. Download the Dataset and Understand the Format (10 Points)"
      ]
    },
    {
      "cell_type": "code",
      "execution_count": null,
      "metadata": {
        "colab": {
          "base_uri": "https://localhost:8080/"
        },
        "id": "oQ_Use7ptM8-",
        "outputId": "bce612c7-c51a-47ac-847f-146554d577ac"
      },
      "outputs": [
        {
          "output_type": "stream",
          "name": "stdout",
          "text": [
            "Mounted at /content/drive\n"
          ]
        }
      ],
      "source": [
        "from google.colab import drive\n",
        "drive.mount('/content/drive')\n",
        "path = '/content/drive/MyDrive/eigenfaces/'"
      ]
    },
    {
      "cell_type": "markdown",
      "metadata": {
        "id": "gb0I4PhA_cQY"
      },
      "source": [
        "#2.Generate the Data Matrix and the Label vector (10 Points)"
      ]
    },
    {
      "cell_type": "code",
      "execution_count": null,
      "metadata": {
        "colab": {
          "base_uri": "https://localhost:8080/"
        },
        "id": "0DxYRxiFyoNo",
        "outputId": "49f34404-b242-4678-a0d3-1dfc7fd16ae8"
      },
      "outputs": [
        {
          "output_type": "stream",
          "name": "stdout",
          "text": [
            "Reading Started\n",
            "Reading Finished\n",
            "number of images 400\n",
            "length of image  10304\n",
            "number of faces 400\n"
          ]
        }
      ],
      "source": [
        "def read_single_image(image_path):\n",
        "    ans = []\n",
        "    with open(image_path, 'rb') as f:\n",
        "        assert f.readline() == b'P5\\n'\n",
        "        assert f.readline() == b'92 112\\n'\n",
        "        assert f.readline() == b'255\\n'\n",
        "        #print(f.readline())\n",
        "        #print(f.readline())\n",
        "        \n",
        "        for i in range(10304):\n",
        "            ans.append(ord(f.read(1)))\n",
        "    return ans \n",
        "    \n",
        "def get_images():\n",
        "    \n",
        "    images = []\n",
        "    persons = []\n",
        "    number_of_persons=40\n",
        "    \n",
        "    print('Reading Started')\n",
        "    for x in range(1, number_of_persons + 1):\n",
        "        current_person_path = path + 's' + str(x) + '/'\n",
        "        for y in range(1, 11):\n",
        "            persons.append(str(x))\n",
        "            images.append(read_single_image(current_person_path + str(y) + '.pgm'))\n",
        "    print('Reading Finished')\n",
        "    print(\"number of images\",len(images))\n",
        "    print(\"length of image \",len(images[0]))\n",
        "    print(\"number of faces\",len(persons))\n",
        "    \n",
        "    images = np.array(images)\n",
        "    return images, persons\n",
        "            \n",
        "\n",
        "(data, labels) = get_images()\n",
        "\n",
        "#data = pd.DataFrame(data,index=labels)"
      ]
    },
    {
      "cell_type": "code",
      "execution_count": null,
      "metadata": {
        "id": "QjuZQpAiwh7T",
        "colab": {
          "base_uri": "https://localhost:8080/"
        },
        "outputId": "09c3c30b-4e14-4e36-a7d3-c146cb8b6281"
      },
      "outputs": [
        {
          "output_type": "execute_result",
          "data": {
            "text/plain": [
              "array([[ 48,  49,  45, ...,  47,  46,  46],\n",
              "       [ 60,  60,  62, ...,  32,  34,  34],\n",
              "       [ 39,  44,  53, ...,  29,  26,  29],\n",
              "       ...,\n",
              "       [125, 119, 124, ...,  36,  39,  40],\n",
              "       [119, 120, 120, ...,  89,  94,  85],\n",
              "       [125, 124, 124, ...,  36,  35,  34]])"
            ]
          },
          "metadata": {},
          "execution_count": 4
        }
      ],
      "source": [
        "data"
      ]
    },
    {
      "cell_type": "markdown",
      "metadata": {
        "id": "Ra4DdjIh_f-q"
      },
      "source": [
        "#3.Split the Dataset into Training and Test sets (10 Points)"
      ]
    },
    {
      "cell_type": "code",
      "execution_count": null,
      "metadata": {
        "id": "wdLYNqyJ57nY"
      },
      "outputs": [],
      "source": [
        "def custom_train_test_split(data, labels, samples_no):\n",
        "    X_train = []\n",
        "    y_train = []\n",
        "    X_test = []\n",
        "    y_test = []\n",
        "    for i in range(samples_no):\n",
        "        if i%2 != 0:\n",
        "            X_train.append(data[i])\n",
        "            y_train.append(labels[i])\n",
        "        else:\n",
        "            X_test.append(data[i])\n",
        "            y_test.append(labels[i])\n",
        "    return X_train, y_train, X_test, y_test\n"
      ]
    },
    {
      "cell_type": "code",
      "execution_count": null,
      "metadata": {
        "id": "qSm_LMm6jSPN"
      },
      "outputs": [],
      "source": [
        "X_train, y_train, X_test, y_test = custom_train_test_split(data, labels, len(data))\n",
        "train_data = pd.DataFrame(X_train,index=y_train)"
      ]
    },
    {
      "cell_type": "code",
      "execution_count": null,
      "metadata": {
        "id": "tL13gvy0yq0F",
        "colab": {
          "base_uri": "https://localhost:8080/",
          "height": 393
        },
        "outputId": "02d620af-7157-45aa-dd86-ab3904353cc4"
      },
      "outputs": [
        {
          "output_type": "execute_result",
          "data": {
            "text/plain": [
              "   0      1      2      3      4      5      6      7      8      9      ...  \\\n",
              "1     60     60     62     53     48     51     61     60     71     68  ...   \n",
              "1     63     53     35     36     33     34     31     35     39     43  ...   \n",
              "1     43     50     41     58     78     83     67     48     44     46  ...   \n",
              "1     44     43     32     32     30     30     38     40     48     66  ...   \n",
              "1     34     34     33     32     38     40     39     49     54     57  ...   \n",
              "2     37     35     35     37     36     37     35     36     37     37  ...   \n",
              "2     34     36     35     36     33     36     36     38     36     38  ...   \n",
              "2     34     35     35     40     36     39     38     34     37     39  ...   \n",
              "2     34     39     35     38     34     41     37     36     35     39  ...   \n",
              "2     37     34     38     36     38     34     38     36     38     37  ...   \n",
              "\n",
              "   10294  10295  10296  10297  10298  10299  10300  10301  10302  10303  \n",
              "1     27     35     28     33     31     31     37     32     34     34  \n",
              "1    173    169    166    161    158    169    137     41     10     24  \n",
              "1    167    164    164    162    159    156    155    158    153    169  \n",
              "1     37     42     42     40     33     29     37     43     43     37  \n",
              "1     42     44     38     30     37     30     36     37     40     33  \n",
              "2     26     28     26     28     24     26     27     26     28     28  \n",
              "2     25     25     24     27     25     27     22     32     25     25  \n",
              "2     26     27     23     29     26     27     26     31     24     24  \n",
              "2    139    143    144    134    139    142    128    135    138    148  \n",
              "2    172    152    137    144    135    140    146    135    143    133  \n",
              "\n",
              "[10 rows x 10304 columns]"
            ],
            "text/html": [
              "\n",
              "  <div id=\"df-d9071a14-fa77-4367-8265-930c8ee63d37\">\n",
              "    <div class=\"colab-df-container\">\n",
              "      <div>\n",
              "<style scoped>\n",
              "    .dataframe tbody tr th:only-of-type {\n",
              "        vertical-align: middle;\n",
              "    }\n",
              "\n",
              "    .dataframe tbody tr th {\n",
              "        vertical-align: top;\n",
              "    }\n",
              "\n",
              "    .dataframe thead th {\n",
              "        text-align: right;\n",
              "    }\n",
              "</style>\n",
              "<table border=\"1\" class=\"dataframe\">\n",
              "  <thead>\n",
              "    <tr style=\"text-align: right;\">\n",
              "      <th></th>\n",
              "      <th>0</th>\n",
              "      <th>1</th>\n",
              "      <th>2</th>\n",
              "      <th>3</th>\n",
              "      <th>4</th>\n",
              "      <th>5</th>\n",
              "      <th>6</th>\n",
              "      <th>7</th>\n",
              "      <th>8</th>\n",
              "      <th>9</th>\n",
              "      <th>...</th>\n",
              "      <th>10294</th>\n",
              "      <th>10295</th>\n",
              "      <th>10296</th>\n",
              "      <th>10297</th>\n",
              "      <th>10298</th>\n",
              "      <th>10299</th>\n",
              "      <th>10300</th>\n",
              "      <th>10301</th>\n",
              "      <th>10302</th>\n",
              "      <th>10303</th>\n",
              "    </tr>\n",
              "  </thead>\n",
              "  <tbody>\n",
              "    <tr>\n",
              "      <th>1</th>\n",
              "      <td>60</td>\n",
              "      <td>60</td>\n",
              "      <td>62</td>\n",
              "      <td>53</td>\n",
              "      <td>48</td>\n",
              "      <td>51</td>\n",
              "      <td>61</td>\n",
              "      <td>60</td>\n",
              "      <td>71</td>\n",
              "      <td>68</td>\n",
              "      <td>...</td>\n",
              "      <td>27</td>\n",
              "      <td>35</td>\n",
              "      <td>28</td>\n",
              "      <td>33</td>\n",
              "      <td>31</td>\n",
              "      <td>31</td>\n",
              "      <td>37</td>\n",
              "      <td>32</td>\n",
              "      <td>34</td>\n",
              "      <td>34</td>\n",
              "    </tr>\n",
              "    <tr>\n",
              "      <th>1</th>\n",
              "      <td>63</td>\n",
              "      <td>53</td>\n",
              "      <td>35</td>\n",
              "      <td>36</td>\n",
              "      <td>33</td>\n",
              "      <td>34</td>\n",
              "      <td>31</td>\n",
              "      <td>35</td>\n",
              "      <td>39</td>\n",
              "      <td>43</td>\n",
              "      <td>...</td>\n",
              "      <td>173</td>\n",
              "      <td>169</td>\n",
              "      <td>166</td>\n",
              "      <td>161</td>\n",
              "      <td>158</td>\n",
              "      <td>169</td>\n",
              "      <td>137</td>\n",
              "      <td>41</td>\n",
              "      <td>10</td>\n",
              "      <td>24</td>\n",
              "    </tr>\n",
              "    <tr>\n",
              "      <th>1</th>\n",
              "      <td>43</td>\n",
              "      <td>50</td>\n",
              "      <td>41</td>\n",
              "      <td>58</td>\n",
              "      <td>78</td>\n",
              "      <td>83</td>\n",
              "      <td>67</td>\n",
              "      <td>48</td>\n",
              "      <td>44</td>\n",
              "      <td>46</td>\n",
              "      <td>...</td>\n",
              "      <td>167</td>\n",
              "      <td>164</td>\n",
              "      <td>164</td>\n",
              "      <td>162</td>\n",
              "      <td>159</td>\n",
              "      <td>156</td>\n",
              "      <td>155</td>\n",
              "      <td>158</td>\n",
              "      <td>153</td>\n",
              "      <td>169</td>\n",
              "    </tr>\n",
              "    <tr>\n",
              "      <th>1</th>\n",
              "      <td>44</td>\n",
              "      <td>43</td>\n",
              "      <td>32</td>\n",
              "      <td>32</td>\n",
              "      <td>30</td>\n",
              "      <td>30</td>\n",
              "      <td>38</td>\n",
              "      <td>40</td>\n",
              "      <td>48</td>\n",
              "      <td>66</td>\n",
              "      <td>...</td>\n",
              "      <td>37</td>\n",
              "      <td>42</td>\n",
              "      <td>42</td>\n",
              "      <td>40</td>\n",
              "      <td>33</td>\n",
              "      <td>29</td>\n",
              "      <td>37</td>\n",
              "      <td>43</td>\n",
              "      <td>43</td>\n",
              "      <td>37</td>\n",
              "    </tr>\n",
              "    <tr>\n",
              "      <th>1</th>\n",
              "      <td>34</td>\n",
              "      <td>34</td>\n",
              "      <td>33</td>\n",
              "      <td>32</td>\n",
              "      <td>38</td>\n",
              "      <td>40</td>\n",
              "      <td>39</td>\n",
              "      <td>49</td>\n",
              "      <td>54</td>\n",
              "      <td>57</td>\n",
              "      <td>...</td>\n",
              "      <td>42</td>\n",
              "      <td>44</td>\n",
              "      <td>38</td>\n",
              "      <td>30</td>\n",
              "      <td>37</td>\n",
              "      <td>30</td>\n",
              "      <td>36</td>\n",
              "      <td>37</td>\n",
              "      <td>40</td>\n",
              "      <td>33</td>\n",
              "    </tr>\n",
              "    <tr>\n",
              "      <th>2</th>\n",
              "      <td>37</td>\n",
              "      <td>35</td>\n",
              "      <td>35</td>\n",
              "      <td>37</td>\n",
              "      <td>36</td>\n",
              "      <td>37</td>\n",
              "      <td>35</td>\n",
              "      <td>36</td>\n",
              "      <td>37</td>\n",
              "      <td>37</td>\n",
              "      <td>...</td>\n",
              "      <td>26</td>\n",
              "      <td>28</td>\n",
              "      <td>26</td>\n",
              "      <td>28</td>\n",
              "      <td>24</td>\n",
              "      <td>26</td>\n",
              "      <td>27</td>\n",
              "      <td>26</td>\n",
              "      <td>28</td>\n",
              "      <td>28</td>\n",
              "    </tr>\n",
              "    <tr>\n",
              "      <th>2</th>\n",
              "      <td>34</td>\n",
              "      <td>36</td>\n",
              "      <td>35</td>\n",
              "      <td>36</td>\n",
              "      <td>33</td>\n",
              "      <td>36</td>\n",
              "      <td>36</td>\n",
              "      <td>38</td>\n",
              "      <td>36</td>\n",
              "      <td>38</td>\n",
              "      <td>...</td>\n",
              "      <td>25</td>\n",
              "      <td>25</td>\n",
              "      <td>24</td>\n",
              "      <td>27</td>\n",
              "      <td>25</td>\n",
              "      <td>27</td>\n",
              "      <td>22</td>\n",
              "      <td>32</td>\n",
              "      <td>25</td>\n",
              "      <td>25</td>\n",
              "    </tr>\n",
              "    <tr>\n",
              "      <th>2</th>\n",
              "      <td>34</td>\n",
              "      <td>35</td>\n",
              "      <td>35</td>\n",
              "      <td>40</td>\n",
              "      <td>36</td>\n",
              "      <td>39</td>\n",
              "      <td>38</td>\n",
              "      <td>34</td>\n",
              "      <td>37</td>\n",
              "      <td>39</td>\n",
              "      <td>...</td>\n",
              "      <td>26</td>\n",
              "      <td>27</td>\n",
              "      <td>23</td>\n",
              "      <td>29</td>\n",
              "      <td>26</td>\n",
              "      <td>27</td>\n",
              "      <td>26</td>\n",
              "      <td>31</td>\n",
              "      <td>24</td>\n",
              "      <td>24</td>\n",
              "    </tr>\n",
              "    <tr>\n",
              "      <th>2</th>\n",
              "      <td>34</td>\n",
              "      <td>39</td>\n",
              "      <td>35</td>\n",
              "      <td>38</td>\n",
              "      <td>34</td>\n",
              "      <td>41</td>\n",
              "      <td>37</td>\n",
              "      <td>36</td>\n",
              "      <td>35</td>\n",
              "      <td>39</td>\n",
              "      <td>...</td>\n",
              "      <td>139</td>\n",
              "      <td>143</td>\n",
              "      <td>144</td>\n",
              "      <td>134</td>\n",
              "      <td>139</td>\n",
              "      <td>142</td>\n",
              "      <td>128</td>\n",
              "      <td>135</td>\n",
              "      <td>138</td>\n",
              "      <td>148</td>\n",
              "    </tr>\n",
              "    <tr>\n",
              "      <th>2</th>\n",
              "      <td>37</td>\n",
              "      <td>34</td>\n",
              "      <td>38</td>\n",
              "      <td>36</td>\n",
              "      <td>38</td>\n",
              "      <td>34</td>\n",
              "      <td>38</td>\n",
              "      <td>36</td>\n",
              "      <td>38</td>\n",
              "      <td>37</td>\n",
              "      <td>...</td>\n",
              "      <td>172</td>\n",
              "      <td>152</td>\n",
              "      <td>137</td>\n",
              "      <td>144</td>\n",
              "      <td>135</td>\n",
              "      <td>140</td>\n",
              "      <td>146</td>\n",
              "      <td>135</td>\n",
              "      <td>143</td>\n",
              "      <td>133</td>\n",
              "    </tr>\n",
              "  </tbody>\n",
              "</table>\n",
              "<p>10 rows × 10304 columns</p>\n",
              "</div>\n",
              "      <button class=\"colab-df-convert\" onclick=\"convertToInteractive('df-d9071a14-fa77-4367-8265-930c8ee63d37')\"\n",
              "              title=\"Convert this dataframe to an interactive table.\"\n",
              "              style=\"display:none;\">\n",
              "        \n",
              "  <svg xmlns=\"http://www.w3.org/2000/svg\" height=\"24px\"viewBox=\"0 0 24 24\"\n",
              "       width=\"24px\">\n",
              "    <path d=\"M0 0h24v24H0V0z\" fill=\"none\"/>\n",
              "    <path d=\"M18.56 5.44l.94 2.06.94-2.06 2.06-.94-2.06-.94-.94-2.06-.94 2.06-2.06.94zm-11 1L8.5 8.5l.94-2.06 2.06-.94-2.06-.94L8.5 2.5l-.94 2.06-2.06.94zm10 10l.94 2.06.94-2.06 2.06-.94-2.06-.94-.94-2.06-.94 2.06-2.06.94z\"/><path d=\"M17.41 7.96l-1.37-1.37c-.4-.4-.92-.59-1.43-.59-.52 0-1.04.2-1.43.59L10.3 9.45l-7.72 7.72c-.78.78-.78 2.05 0 2.83L4 21.41c.39.39.9.59 1.41.59.51 0 1.02-.2 1.41-.59l7.78-7.78 2.81-2.81c.8-.78.8-2.07 0-2.86zM5.41 20L4 18.59l7.72-7.72 1.47 1.35L5.41 20z\"/>\n",
              "  </svg>\n",
              "      </button>\n",
              "      \n",
              "  <style>\n",
              "    .colab-df-container {\n",
              "      display:flex;\n",
              "      flex-wrap:wrap;\n",
              "      gap: 12px;\n",
              "    }\n",
              "\n",
              "    .colab-df-convert {\n",
              "      background-color: #E8F0FE;\n",
              "      border: none;\n",
              "      border-radius: 50%;\n",
              "      cursor: pointer;\n",
              "      display: none;\n",
              "      fill: #1967D2;\n",
              "      height: 32px;\n",
              "      padding: 0 0 0 0;\n",
              "      width: 32px;\n",
              "    }\n",
              "\n",
              "    .colab-df-convert:hover {\n",
              "      background-color: #E2EBFA;\n",
              "      box-shadow: 0px 1px 2px rgba(60, 64, 67, 0.3), 0px 1px 3px 1px rgba(60, 64, 67, 0.15);\n",
              "      fill: #174EA6;\n",
              "    }\n",
              "\n",
              "    [theme=dark] .colab-df-convert {\n",
              "      background-color: #3B4455;\n",
              "      fill: #D2E3FC;\n",
              "    }\n",
              "\n",
              "    [theme=dark] .colab-df-convert:hover {\n",
              "      background-color: #434B5C;\n",
              "      box-shadow: 0px 1px 3px 1px rgba(0, 0, 0, 0.15);\n",
              "      filter: drop-shadow(0px 1px 2px rgba(0, 0, 0, 0.3));\n",
              "      fill: #FFFFFF;\n",
              "    }\n",
              "  </style>\n",
              "\n",
              "      <script>\n",
              "        const buttonEl =\n",
              "          document.querySelector('#df-d9071a14-fa77-4367-8265-930c8ee63d37 button.colab-df-convert');\n",
              "        buttonEl.style.display =\n",
              "          google.colab.kernel.accessAllowed ? 'block' : 'none';\n",
              "\n",
              "        async function convertToInteractive(key) {\n",
              "          const element = document.querySelector('#df-d9071a14-fa77-4367-8265-930c8ee63d37');\n",
              "          const dataTable =\n",
              "            await google.colab.kernel.invokeFunction('convertToInteractive',\n",
              "                                                     [key], {});\n",
              "          if (!dataTable) return;\n",
              "\n",
              "          const docLinkHtml = 'Like what you see? Visit the ' +\n",
              "            '<a target=\"_blank\" href=https://colab.research.google.com/notebooks/data_table.ipynb>data table notebook</a>'\n",
              "            + ' to learn more about interactive tables.';\n",
              "          element.innerHTML = '';\n",
              "          dataTable['output_type'] = 'display_data';\n",
              "          await google.colab.output.renderOutput(dataTable, element);\n",
              "          const docLink = document.createElement('div');\n",
              "          docLink.innerHTML = docLinkHtml;\n",
              "          element.appendChild(docLink);\n",
              "        }\n",
              "      </script>\n",
              "    </div>\n",
              "  </div>\n",
              "  "
            ]
          },
          "metadata": {},
          "execution_count": 7
        }
      ],
      "source": [
        "train_data.head(10)"
      ]
    },
    {
      "cell_type": "markdown",
      "metadata": {
        "id": "QQsJm7ZdA97x"
      },
      "source": [
        "#4.Classification using PCA (30 points) & 6.Classifier Tuning (20 Points)"
      ]
    },
    {
      "cell_type": "code",
      "execution_count": null,
      "metadata": {
        "id": "VSMj5kgf-y7L"
      },
      "outputs": [],
      "source": [
        "def dimensionality(alpha, eig_values):\n",
        "    sum = np.sum(eig_values)\n",
        "    r = 0\n",
        "    i = 0\n",
        "    for value in eig_values: \n",
        "        r = r + eig_values[i]\n",
        "        i = i + 1\n",
        "        if (r / sum >= alpha):\n",
        "            break\n",
        "    return i\n",
        "\n",
        "def reduced_dimensions(alpha_values, eig_values):\n",
        "    reduced_dimensions = []\n",
        "    for alpha in alpha_values:\n",
        "        reduced_dimensions.append(dimensionality(alpha, eig_values))\n",
        "    return reduced_dimensions\n",
        "\n",
        "def PCA(data, alphas,eigen_vectors,eigen_values):\n",
        "    r = reduced_dimensions(alphas, eigen_values)\n",
        "    return r, eigen_vectors\n",
        "\n",
        "  \n"
      ]
    },
    {
      "cell_type": "code",
      "execution_count": null,
      "metadata": {
        "id": "QIAYLhRjIsat",
        "colab": {
          "base_uri": "https://localhost:8080/"
        },
        "outputId": "6c7907aa-3df4-490f-f5b6-0f5d89a29f7c"
      },
      "outputs": [
        {
          "output_type": "stream",
          "name": "stdout",
          "text": [
            "centralized_data shape: (200, 10304)\n",
            "[-1.79767800e-09 -1.25750599e-09 -9.71650920e-10 ...  1.06569341e+06\n",
            "  2.14179597e+06  2.76884465e+06]\n"
          ]
        },
        {
          "output_type": "stream",
          "name": "stderr",
          "text": [
            "/usr/local/lib/python3.9/dist-packages/numpy/core/fromnumeric.py:3472: FutureWarning: In a future version, DataFrame.mean(axis=None) will return a scalar mean over the entire DataFrame. To retain the old behavior, use 'frame.mean(axis=0)' or just 'frame.mean()'\n",
            "  return mean(axis=axis, dtype=dtype, out=out, **kwargs)\n"
          ]
        }
      ],
      "source": [
        "centralized_data = X_train - np.mean(X_train,axis=0, keepdims=True)\n",
        "print(\"centralized_data shape:\", centralized_data.shape)\n",
        "cov_matrix=np.cov(np.transpose(centralized_data),bias=True)\n",
        "eigen_values, eigen_vectors = np.linalg.eigh(cov_matrix)\n",
        "mean = np.mean(train_data)\n",
        "print(eigen_values)\n"
      ]
    },
    {
      "cell_type": "code",
      "execution_count": null,
      "metadata": {
        "id": "EwUUpJa2QZir",
        "colab": {
          "base_uri": "https://localhost:8080/"
        },
        "outputId": "d61ca89b-48ad-457b-b028-de29d609d5ec"
      },
      "outputs": [
        {
          "output_type": "execute_result",
          "data": {
            "text/plain": [
              "array([-1.79767800e-09, -1.25750599e-09, -9.71650920e-10, ...,\n",
              "        1.06569341e+06,  2.14179597e+06,  2.76884465e+06])"
            ]
          },
          "metadata": {},
          "execution_count": 10
        }
      ],
      "source": [
        "eigen_values"
      ]
    },
    {
      "cell_type": "code",
      "execution_count": null,
      "metadata": {
        "id": "EBJfR73aQdeu"
      },
      "outputs": [],
      "source": [
        "eigen_values_sum = np.sum(eigen_values)"
      ]
    },
    {
      "cell_type": "code",
      "execution_count": null,
      "metadata": {
        "id": "Y4ofxNO1oGJX"
      },
      "outputs": [],
      "source": [
        "alphas = [0.8, 0.85, 0.9, 0.95]\n",
        "r,eigen_vectors=PCA(data, alphas,eigen_vectors,eigen_values)"
      ]
    },
    {
      "cell_type": "code",
      "execution_count": null,
      "metadata": {
        "id": "zrtPzvOe79t7"
      },
      "outputs": [],
      "source": [
        "from sklearn import metrics\n",
        "def classify(X_train, y_train, X_test, y_test, n_neighbors,cm):\n",
        "    print( n_neighbors)\n",
        "    model = KNeighborsClassifier(n_neighbors=n_neighbors)\n",
        "    model.fit(X_train, y_train)\n",
        "    y_predict = model.predict(X_test)\n",
        "    print(f\"Acc for train--> {model.score(X_train, y_train)}\")\n",
        "    acc = model.score(X_test, y_test)\n",
        "    print(f\"Acc for test--> {acc}\")\n",
        "    if cm:\n",
        "      print(\"Classification report: \" )\n",
        "      print(classification_report(y_test, y_predict))\n",
        "      confusion_matrix = metrics.confusion_matrix(y_test, y_predict)\n",
        "      cm_display = metrics.ConfusionMatrixDisplay(confusion_matrix = confusion_matrix, display_labels = [0,1])\n",
        "      cm_display.plot()\n",
        "      plt.show()\n",
        "    return acc"
      ]
    },
    {
      "cell_type": "code",
      "execution_count": null,
      "metadata": {
        "id": "XWHbc_2Ho0tt",
        "colab": {
          "base_uri": "https://localhost:8080/",
          "height": 1000
        },
        "outputId": "a09489d3-67b0-4cc9-c11e-aa3f2a2a9ffd"
      },
      "outputs": [
        {
          "output_type": "stream",
          "name": "stdout",
          "text": [
            "Acc for train--> 1.0\n",
            "Acc for test--> 0.94\n",
            "Acc for train--> 0.925\n",
            "Acc for test--> 0.845\n",
            "Acc for train--> 0.86\n",
            "Acc for test--> 0.805\n",
            "Acc for train--> 0.78\n",
            "Acc for test--> 0.75\n"
          ]
        },
        {
          "output_type": "display_data",
          "data": {
            "text/plain": [
              "<Figure size 432x288 with 1 Axes>"
            ],
            "image/png": "[encoded data removed]"
          },
          "metadata": {
            "needs_background": "light"
          }
        },
        {
          "output_type": "stream",
          "name": "stdout",
          "text": [
            "Acc for train--> 1.0\n",
            "Acc for test--> 0.945\n",
            "Acc for train--> 0.965\n",
            "Acc for test--> 0.88\n",
            "Acc for train--> 0.885\n",
            "Acc for test--> 0.835\n",
            "Acc for train--> 0.825\n",
            "Acc for test--> 0.775\n"
          ]
        },
        {
          "output_type": "display_data",
          "data": {
            "text/plain": [
              "<Figure size 432x288 with 1 Axes>"
            ],
            "image/png": "[encoded data removed]"
          },
          "metadata": {
            "needs_background": "light"
          }
        },
        {
          "output_type": "stream",
          "name": "stdout",
          "text": [
            "Acc for train--> 1.0\n",
            "Acc for test--> 0.945\n",
            "Acc for train--> 0.965\n",
            "Acc for test--> 0.88\n",
            "Acc for train--> 0.885\n",
            "Acc for test--> 0.835\n",
            "Acc for train--> 0.825\n",
            "Acc for test--> 0.775\n"
          ]
        },
        {
          "output_type": "display_data",
          "data": {
            "text/plain": [
              "<Figure size 432x288 with 1 Axes>"
            ],
            "image/png": "[encoded data removed]"
          },
          "metadata": {
            "needs_background": "light"
          }
        },
        {
          "output_type": "stream",
          "name": "stdout",
          "text": [
            "Acc for train--> 1.0\n",
            "Acc for test--> 0.945\n",
            "Acc for train--> 0.965\n",
            "Acc for test--> 0.88\n",
            "Acc for train--> 0.885\n",
            "Acc for test--> 0.835\n",
            "Acc for train--> 0.825\n",
            "Acc for test--> 0.775\n"
          ]
        },
        {
          "output_type": "display_data",
          "data": {
            "text/plain": [
              "<Figure size 432x288 with 1 Axes>"
            ],
            "image/png": "[encoded data removed]"
          },
          "metadata": {
            "needs_background": "light"
          }
        }
      ],
      "source": [
        "for i in r:\n",
        "    U = eigen_vectors[:,0:i].T\n",
        "    projected_train_data = np.array(np.matmul(centralized_data, U.T))\n",
        "    projected_test_data = np.array(np.matmul(X_test - np.array(mean), U.T))\n",
        "    acc = []\n",
        "    k_values = [1, 3, 5, 7]\n",
        "    for k in k_values:\n",
        "        acc.append(classify(projected_train_data, y_train, projected_test_data, y_test, k, False))\n",
        "\n",
        "    plt.plot(k_values, acc)\n",
        "    plt.xlabel('Number of neighbors')\n",
        "    plt.ylabel('Acc')\n",
        "    plt.title('K tunning graph')\n",
        "    plt.show()"
      ]
    },
    {
      "cell_type": "markdown",
      "metadata": {
        "id": "pmE6Uo3Pi6D9"
      },
      "source": [
        "#5.Classification Using LDA (30 Points) & 6.Classifier Tuning (20 Points)"
      ]
    },
    {
      "cell_type": "markdown",
      "metadata": {
        "id": "dEtVlMUwxoXh"
      },
      "source": [
        "Calculating Mean Vector"
      ]
    },
    {
      "cell_type": "code",
      "execution_count": null,
      "metadata": {
        "id": "osMnnePxi8c1",
        "colab": {
          "base_uri": "https://localhost:8080/"
        },
        "outputId": "247fa82d-96e0-475b-de7e-eb33f4df3182"
      },
      "outputs": [
        {
          "output_type": "stream",
          "name": "stderr",
          "text": [
            "/usr/local/lib/python3.9/dist-packages/numpy/core/fromnumeric.py:3472: FutureWarning: In a future version, DataFrame.mean(axis=None) will return a scalar mean over the entire DataFrame. To retain the old behavior, use 'frame.mean(axis=0)' or just 'frame.mean()'\n",
            "  return mean(axis=axis, dtype=dtype, out=out, **kwargs)\n"
          ]
        }
      ],
      "source": [
        "dimensions = 10304\n",
        "no_of_persons = 40\n",
        "\n",
        "mean_vector = dict()\n",
        "for person_no in range(1, no_of_persons + 1):\n",
        "  person_no = str(person_no)\n",
        "  person_data = train_data.loc[person_no]\n",
        "  mean = np.mean(person_data)\n",
        "  mean_vector[person_no] = mean"
      ]
    },
    {
      "cell_type": "markdown",
      "metadata": {
        "id": "ENNTlLKixsCA"
      },
      "source": [
        "Calculating S and Sb Matrices\n"
      ]
    },
    {
      "cell_type": "code",
      "execution_count": null,
      "metadata": {
        "id": "_FK1ptjDxnRg"
      },
      "outputs": [],
      "source": [
        "total_mean = np.mean(X_train)\n",
        "nk = 5\n",
        "\n",
        "S = np.zeros((dimensions,dimensions))\n",
        "SB = np.zeros((dimensions,dimensions))\n",
        "\n",
        "for person_no in range(1, no_of_persons+1):\n",
        "  person_no = str(person_no)\n",
        "  person_data = train_data.loc[person_no]\n",
        "  mean_vector[person_no]\n",
        "  Z = np.array(person_data - mean_vector[person_no])\n",
        "  S += Z.T.dot(Z)\n",
        "  diff = np.array(mean_vector[person_no] - total_mean)\n",
        "  SB += nk*diff.dot(diff.T)"
      ]
    },
    {
      "cell_type": "code",
      "execution_count": null,
      "metadata": {
        "id": "BsqOw4k0zgb0",
        "colab": {
          "base_uri": "https://localhost:8080/"
        },
        "outputId": "04df9057-eb0f-46cc-8e6d-cbb030e33ee9"
      },
      "outputs": [
        {
          "output_type": "execute_result",
          "data": {
            "text/plain": [
              "array([[ 28496.8,  27128.2,  27372.4, ...,  -3977.2,  -3511.6,    539. ],\n",
              "       [ 27128.2,  28448.8,  27518.6, ...,  -2697.2,  -2349.2,   1781.6],\n",
              "       [ 27372.4,  27518.6,  28698.4, ...,  -3472.2,   -923.2,   3416.2],\n",
              "       ...,\n",
              "       [ -3977.2,  -2697.2,  -3472.2, ..., 140034. ,  83425.8,  64222.2],\n",
              "       [ -3511.6,  -2349.2,   -923.2, ...,  83425.8,  99585.6,  82754.4],\n",
              "       [   539. ,   1781.6,   3416.2, ...,  64222.2,  82754.4, 104148.8]])"
            ]
          },
          "metadata": {},
          "execution_count": 17
        }
      ],
      "source": [
        "S"
      ]
    },
    {
      "cell_type": "code",
      "execution_count": null,
      "metadata": {
        "id": "ErEmoAzj0rCH",
        "colab": {
          "base_uri": "https://localhost:8080/",
          "height": 706
        },
        "outputId": "254a1564-cac8-40e8-8a1e-89f2401daf73"
      },
      "outputs": [
        {
          "output_type": "execute_result",
          "data": {
            "text/plain": [
              "   0      1      2      3      4      5      6      7      8      9      ...  \\\n",
              "1     60     60     62     53     48     51     61     60     71     68  ...   \n",
              "1     63     53     35     36     33     34     31     35     39     43  ...   \n",
              "1     43     50     41     58     78     83     67     48     44     46  ...   \n",
              "1     44     43     32     32     30     30     38     40     48     66  ...   \n",
              "1     34     34     33     32     38     40     39     49     54     57  ...   \n",
              "2     37     35     35     37     36     37     35     36     37     37  ...   \n",
              "2     34     36     35     36     33     36     36     38     36     38  ...   \n",
              "2     34     35     35     40     36     39     38     34     37     39  ...   \n",
              "2     34     39     35     38     34     41     37     36     35     39  ...   \n",
              "2     37     34     38     36     38     34     38     36     38     37  ...   \n",
              "3    100     99    108     99    108    102    107    104    102    108  ...   \n",
              "3    105    102    108    105    102    109    105    105    104    108  ...   \n",
              "3    110    106    109    109    107    109    110    107    108    112  ...   \n",
              "3    107    104    109    105    108    110    109    109    108    109  ...   \n",
              "3    104    109    103    109    107    109    109    108    109    107  ...   \n",
              "4    116    112    115    117    113    116    113    119    117    114  ...   \n",
              "4    119    121    119    120    122    117    122    123    120    120  ...   \n",
              "4    121    123    121    117    124    117    119    120    121    122  ...   \n",
              "4    118    114    117    115    117    117    116    119    114    116  ...   \n",
              "4    119    124    118    121    119    121    118    120    121    120  ...   \n",
              "\n",
              "   10294  10295  10296  10297  10298  10299  10300  10301  10302  10303  \n",
              "1     27     35     28     33     31     31     37     32     34     34  \n",
              "1    173    169    166    161    158    169    137     41     10     24  \n",
              "1    167    164    164    162    159    156    155    158    153    169  \n",
              "1     37     42     42     40     33     29     37     43     43     37  \n",
              "1     42     44     38     30     37     30     36     37     40     33  \n",
              "2     26     28     26     28     24     26     27     26     28     28  \n",
              "2     25     25     24     27     25     27     22     32     25     25  \n",
              "2     26     27     23     29     26     27     26     31     24     24  \n",
              "2    139    143    144    134    139    142    128    135    138    148  \n",
              "2    172    152    137    144    135    140    146    135    143    133  \n",
              "3     33     40     40     43     42     42     45     44     42     44  \n",
              "3     42     48     33     40     41     45     43     42     35     37  \n",
              "3     51     58     50     55     51     48     51     49     53     53  \n",
              "3     49     47     55     56     50     52     56     58     56     57  \n",
              "3     55     52     53     48     48     50     59     57     56     59  \n",
              "4     42     57     48     51     55     54     52     51     55     54  \n",
              "4     76     85     82     73     82     81     81     82     78     80  \n",
              "4     37     81     84     85     95     90     86     88     83     78  \n",
              "4     49     55     52     46     53     56     48     58     54     52  \n",
              "4     73     79     77     78     75     82     76     75     77     82  \n",
              "\n",
              "[20 rows x 10304 columns]"
            ],
            "text/html": [
              "\n",
              "  <div id=\"df-07cbef3c-1345-46e4-94a5-60290908cb3d\">\n",
              "    <div class=\"colab-df-container\">\n",
              "      <div>\n",
              "<style scoped>\n",
              "    .dataframe tbody tr th:only-of-type {\n",
              "        vertical-align: middle;\n",
              "    }\n",
              "\n",
              "    .dataframe tbody tr th {\n",
              "        vertical-align: top;\n",
              "    }\n",
              "\n",
              "    .dataframe thead th {\n",
              "        text-align: right;\n",
              "    }\n",
              "</style>\n",
              "<table border=\"1\" class=\"dataframe\">\n",
              "  <thead>\n",
              "    <tr style=\"text-align: right;\">\n",
              "      <th></th>\n",
              "      <th>0</th>\n",
              "      <th>1</th>\n",
              "      <th>2</th>\n",
              "      <th>3</th>\n",
              "      <th>4</th>\n",
              "      <th>5</th>\n",
              "      <th>6</th>\n",
              "      <th>7</th>\n",
              "      <th>8</th>\n",
              "      <th>9</th>\n",
              "      <th>...</th>\n",
              "      <th>10294</th>\n",
              "      <th>10295</th>\n",
              "      <th>10296</th>\n",
              "      <th>10297</th>\n",
              "      <th>10298</th>\n",
              "      <th>10299</th>\n",
              "      <th>10300</th>\n",
              "      <th>10301</th>\n",
              "      <th>10302</th>\n",
              "      <th>10303</th>\n",
              "    </tr>\n",
              "  </thead>\n",
              "  <tbody>\n",
              "    <tr>\n",
              "      <th>1</th>\n",
              "      <td>60</td>\n",
              "      <td>60</td>\n",
              "      <td>62</td>\n",
              "      <td>53</td>\n",
              "      <td>48</td>\n",
              "      <td>51</td>\n",
              "      <td>61</td>\n",
              "      <td>60</td>\n",
              "      <td>71</td>\n",
              "      <td>68</td>\n",
              "      <td>...</td>\n",
              "      <td>27</td>\n",
              "      <td>35</td>\n",
              "      <td>28</td>\n",
              "      <td>33</td>\n",
              "      <td>31</td>\n",
              "      <td>31</td>\n",
              "      <td>37</td>\n",
              "      <td>32</td>\n",
              "      <td>34</td>\n",
              "      <td>34</td>\n",
              "    </tr>\n",
              "    <tr>\n",
              "      <th>1</th>\n",
              "      <td>63</td>\n",
              "      <td>53</td>\n",
              "      <td>35</td>\n",
              "      <td>36</td>\n",
              "      <td>33</td>\n",
              "      <td>34</td>\n",
              "      <td>31</td>\n",
              "      <td>35</td>\n",
              "      <td>39</td>\n",
              "      <td>43</td>\n",
              "      <td>...</td>\n",
              "      <td>173</td>\n",
              "      <td>169</td>\n",
              "      <td>166</td>\n",
              "      <td>161</td>\n",
              "      <td>158</td>\n",
              "      <td>169</td>\n",
              "      <td>137</td>\n",
              "      <td>41</td>\n",
              "      <td>10</td>\n",
              "      <td>24</td>\n",
              "    </tr>\n",
              "    <tr>\n",
              "      <th>1</th>\n",
              "      <td>43</td>\n",
              "      <td>50</td>\n",
              "      <td>41</td>\n",
              "      <td>58</td>\n",
              "      <td>78</td>\n",
              "      <td>83</td>\n",
              "      <td>67</td>\n",
              "      <td>48</td>\n",
              "      <td>44</td>\n",
              "      <td>46</td>\n",
              "      <td>...</td>\n",
              "      <td>167</td>\n",
              "      <td>164</td>\n",
              "      <td>164</td>\n",
              "      <td>162</td>\n",
              "      <td>159</td>\n",
              "      <td>156</td>\n",
              "      <td>155</td>\n",
              "      <td>158</td>\n",
              "      <td>153</td>\n",
              "      <td>169</td>\n",
              "    </tr>\n",
              "    <tr>\n",
              "      <th>1</th>\n",
              "      <td>44</td>\n",
              "      <td>43</td>\n",
              "      <td>32</td>\n",
              "      <td>32</td>\n",
              "      <td>30</td>\n",
              "      <td>30</td>\n",
              "      <td>38</td>\n",
              "      <td>40</td>\n",
              "      <td>48</td>\n",
              "      <td>66</td>\n",
              "      <td>...</td>\n",
              "      <td>37</td>\n",
              "      <td>42</td>\n",
              "      <td>42</td>\n",
              "      <td>40</td>\n",
              "      <td>33</td>\n",
              "      <td>29</td>\n",
              "      <td>37</td>\n",
              "      <td>43</td>\n",
              "      <td>43</td>\n",
              "      <td>37</td>\n",
              "    </tr>\n",
              "    <tr>\n",
              "      <th>1</th>\n",
              "      <td>34</td>\n",
              "      <td>34</td>\n",
              "      <td>33</td>\n",
              "      <td>32</td>\n",
              "      <td>38</td>\n",
              "      <td>40</td>\n",
              "      <td>39</td>\n",
              "      <td>49</td>\n",
              "      <td>54</td>\n",
              "      <td>57</td>\n",
              "      <td>...</td>\n",
              "      <td>42</td>\n",
              "      <td>44</td>\n",
              "      <td>38</td>\n",
              "      <td>30</td>\n",
              "      <td>37</td>\n",
              "      <td>30</td>\n",
              "      <td>36</td>\n",
              "      <td>37</td>\n",
              "      <td>40</td>\n",
              "      <td>33</td>\n",
              "    </tr>\n",
              "    <tr>\n",
              "      <th>2</th>\n",
              "      <td>37</td>\n",
              "      <td>35</td>\n",
              "      <td>35</td>\n",
              "      <td>37</td>\n",
              "      <td>36</td>\n",
              "      <td>37</td>\n",
              "      <td>35</td>\n",
              "      <td>36</td>\n",
              "      <td>37</td>\n",
              "      <td>37</td>\n",
              "      <td>...</td>\n",
              "      <td>26</td>\n",
              "      <td>28</td>\n",
              "      <td>26</td>\n",
              "      <td>28</td>\n",
              "      <td>24</td>\n",
              "      <td>26</td>\n",
              "      <td>27</td>\n",
              "      <td>26</td>\n",
              "      <td>28</td>\n",
              "      <td>28</td>\n",
              "    </tr>\n",
              "    <tr>\n",
              "      <th>2</th>\n",
              "      <td>34</td>\n",
              "      <td>36</td>\n",
              "      <td>35</td>\n",
              "      <td>36</td>\n",
              "      <td>33</td>\n",
              "      <td>36</td>\n",
              "      <td>36</td>\n",
              "      <td>38</td>\n",
              "      <td>36</td>\n",
              "      <td>38</td>\n",
              "      <td>...</td>\n",
              "      <td>25</td>\n",
              "      <td>25</td>\n",
              "      <td>24</td>\n",
              "      <td>27</td>\n",
              "      <td>25</td>\n",
              "      <td>27</td>\n",
              "      <td>22</td>\n",
              "      <td>32</td>\n",
              "      <td>25</td>\n",
              "      <td>25</td>\n",
              "    </tr>\n",
              "    <tr>\n",
              "      <th>2</th>\n",
              "      <td>34</td>\n",
              "      <td>35</td>\n",
              "      <td>35</td>\n",
              "      <td>40</td>\n",
              "      <td>36</td>\n",
              "      <td>39</td>\n",
              "      <td>38</td>\n",
              "      <td>34</td>\n",
              "      <td>37</td>\n",
              "      <td>39</td>\n",
              "      <td>...</td>\n",
              "      <td>26</td>\n",
              "      <td>27</td>\n",
              "      <td>23</td>\n",
              "      <td>29</td>\n",
              "      <td>26</td>\n",
              "      <td>27</td>\n",
              "      <td>26</td>\n",
              "      <td>31</td>\n",
              "      <td>24</td>\n",
              "      <td>24</td>\n",
              "    </tr>\n",
              "    <tr>\n",
              "      <th>2</th>\n",
              "      <td>34</td>\n",
              "      <td>39</td>\n",
              "      <td>35</td>\n",
              "      <td>38</td>\n",
              "      <td>34</td>\n",
              "      <td>41</td>\n",
              "      <td>37</td>\n",
              "      <td>36</td>\n",
              "      <td>35</td>\n",
              "      <td>39</td>\n",
              "      <td>...</td>\n",
              "      <td>139</td>\n",
              "      <td>143</td>\n",
              "      <td>144</td>\n",
              "      <td>134</td>\n",
              "      <td>139</td>\n",
              "      <td>142</td>\n",
              "      <td>128</td>\n",
              "      <td>135</td>\n",
              "      <td>138</td>\n",
              "      <td>148</td>\n",
              "    </tr>\n",
              "    <tr>\n",
              "      <th>2</th>\n",
              "      <td>37</td>\n",
              "      <td>34</td>\n",
              "      <td>38</td>\n",
              "      <td>36</td>\n",
              "      <td>38</td>\n",
              "      <td>34</td>\n",
              "      <td>38</td>\n",
              "      <td>36</td>\n",
              "      <td>38</td>\n",
              "      <td>37</td>\n",
              "      <td>...</td>\n",
              "      <td>172</td>\n",
              "      <td>152</td>\n",
              "      <td>137</td>\n",
              "      <td>144</td>\n",
              "      <td>135</td>\n",
              "      <td>140</td>\n",
              "      <td>146</td>\n",
              "      <td>135</td>\n",
              "      <td>143</td>\n",
              "      <td>133</td>\n",
              "    </tr>\n",
              "    <tr>\n",
              "      <th>3</th>\n",
              "      <td>100</td>\n",
              "      <td>99</td>\n",
              "      <td>108</td>\n",
              "      <td>99</td>\n",
              "      <td>108</td>\n",
              "      <td>102</td>\n",
              "      <td>107</td>\n",
              "      <td>104</td>\n",
              "      <td>102</td>\n",
              "      <td>108</td>\n",
              "      <td>...</td>\n",
              "      <td>33</td>\n",
              "      <td>40</td>\n",
              "      <td>40</td>\n",
              "      <td>43</td>\n",
              "      <td>42</td>\n",
              "      <td>42</td>\n",
              "      <td>45</td>\n",
              "      <td>44</td>\n",
              "      <td>42</td>\n",
              "      <td>44</td>\n",
              "    </tr>\n",
              "    <tr>\n",
              "      <th>3</th>\n",
              "      <td>105</td>\n",
              "      <td>102</td>\n",
              "      <td>108</td>\n",
              "      <td>105</td>\n",
              "      <td>102</td>\n",
              "      <td>109</td>\n",
              "      <td>105</td>\n",
              "      <td>105</td>\n",
              "      <td>104</td>\n",
              "      <td>108</td>\n",
              "      <td>...</td>\n",
              "      <td>42</td>\n",
              "      <td>48</td>\n",
              "      <td>33</td>\n",
              "      <td>40</td>\n",
              "      <td>41</td>\n",
              "      <td>45</td>\n",
              "      <td>43</td>\n",
              "      <td>42</td>\n",
              "      <td>35</td>\n",
              "      <td>37</td>\n",
              "    </tr>\n",
              "    <tr>\n",
              "      <th>3</th>\n",
              "      <td>110</td>\n",
              "      <td>106</td>\n",
              "      <td>109</td>\n",
              "      <td>109</td>\n",
              "      <td>107</td>\n",
              "      <td>109</td>\n",
              "      <td>110</td>\n",
              "      <td>107</td>\n",
              "      <td>108</td>\n",
              "      <td>112</td>\n",
              "      <td>...</td>\n",
              "      <td>51</td>\n",
              "      <td>58</td>\n",
              "      <td>50</td>\n",
              "      <td>55</td>\n",
              "      <td>51</td>\n",
              "      <td>48</td>\n",
              "      <td>51</td>\n",
              "      <td>49</td>\n",
              "      <td>53</td>\n",
              "      <td>53</td>\n",
              "    </tr>\n",
              "    <tr>\n",
              "      <th>3</th>\n",
              "      <td>107</td>\n",
              "      <td>104</td>\n",
              "      <td>109</td>\n",
              "      <td>105</td>\n",
              "      <td>108</td>\n",
              "      <td>110</td>\n",
              "      <td>109</td>\n",
              "      <td>109</td>\n",
              "      <td>108</td>\n",
              "      <td>109</td>\n",
              "      <td>...</td>\n",
              "      <td>49</td>\n",
              "      <td>47</td>\n",
              "      <td>55</td>\n",
              "      <td>56</td>\n",
              "      <td>50</td>\n",
              "      <td>52</td>\n",
              "      <td>56</td>\n",
              "      <td>58</td>\n",
              "      <td>56</td>\n",
              "      <td>57</td>\n",
              "    </tr>\n",
              "    <tr>\n",
              "      <th>3</th>\n",
              "      <td>104</td>\n",
              "      <td>109</td>\n",
              "      <td>103</td>\n",
              "      <td>109</td>\n",
              "      <td>107</td>\n",
              "      <td>109</td>\n",
              "      <td>109</td>\n",
              "      <td>108</td>\n",
              "      <td>109</td>\n",
              "      <td>107</td>\n",
              "      <td>...</td>\n",
              "      <td>55</td>\n",
              "      <td>52</td>\n",
              "      <td>53</td>\n",
              "      <td>48</td>\n",
              "      <td>48</td>\n",
              "      <td>50</td>\n",
              "      <td>59</td>\n",
              "      <td>57</td>\n",
              "      <td>56</td>\n",
              "      <td>59</td>\n",
              "    </tr>\n",
              "    <tr>\n",
              "      <th>4</th>\n",
              "      <td>116</td>\n",
              "      <td>112</td>\n",
              "      <td>115</td>\n",
              "      <td>117</td>\n",
              "      <td>113</td>\n",
              "      <td>116</td>\n",
              "      <td>113</td>\n",
              "      <td>119</td>\n",
              "      <td>117</td>\n",
              "      <td>114</td>\n",
              "      <td>...</td>\n",
              "      <td>42</td>\n",
              "      <td>57</td>\n",
              "      <td>48</td>\n",
              "      <td>51</td>\n",
              "      <td>55</td>\n",
              "      <td>54</td>\n",
              "      <td>52</td>\n",
              "      <td>51</td>\n",
              "      <td>55</td>\n",
              "      <td>54</td>\n",
              "    </tr>\n",
              "    <tr>\n",
              "      <th>4</th>\n",
              "      <td>119</td>\n",
              "      <td>121</td>\n",
              "      <td>119</td>\n",
              "      <td>120</td>\n",
              "      <td>122</td>\n",
              "      <td>117</td>\n",
              "      <td>122</td>\n",
              "      <td>123</td>\n",
              "      <td>120</td>\n",
              "      <td>120</td>\n",
              "      <td>...</td>\n",
              "      <td>76</td>\n",
              "      <td>85</td>\n",
              "      <td>82</td>\n",
              "      <td>73</td>\n",
              "      <td>82</td>\n",
              "      <td>81</td>\n",
              "      <td>81</td>\n",
              "      <td>82</td>\n",
              "      <td>78</td>\n",
              "      <td>80</td>\n",
              "    </tr>\n",
              "    <tr>\n",
              "      <th>4</th>\n",
              "      <td>121</td>\n",
              "      <td>123</td>\n",
              "      <td>121</td>\n",
              "      <td>117</td>\n",
              "      <td>124</td>\n",
              "      <td>117</td>\n",
              "      <td>119</td>\n",
              "      <td>120</td>\n",
              "      <td>121</td>\n",
              "      <td>122</td>\n",
              "      <td>...</td>\n",
              "      <td>37</td>\n",
              "      <td>81</td>\n",
              "      <td>84</td>\n",
              "      <td>85</td>\n",
              "      <td>95</td>\n",
              "      <td>90</td>\n",
              "      <td>86</td>\n",
              "      <td>88</td>\n",
              "      <td>83</td>\n",
              "      <td>78</td>\n",
              "    </tr>\n",
              "    <tr>\n",
              "      <th>4</th>\n",
              "      <td>118</td>\n",
              "      <td>114</td>\n",
              "      <td>117</td>\n",
              "      <td>115</td>\n",
              "      <td>117</td>\n",
              "      <td>117</td>\n",
              "      <td>116</td>\n",
              "      <td>119</td>\n",
              "      <td>114</td>\n",
              "      <td>116</td>\n",
              "      <td>...</td>\n",
              "      <td>49</td>\n",
              "      <td>55</td>\n",
              "      <td>52</td>\n",
              "      <td>46</td>\n",
              "      <td>53</td>\n",
              "      <td>56</td>\n",
              "      <td>48</td>\n",
              "      <td>58</td>\n",
              "      <td>54</td>\n",
              "      <td>52</td>\n",
              "    </tr>\n",
              "    <tr>\n",
              "      <th>4</th>\n",
              "      <td>119</td>\n",
              "      <td>124</td>\n",
              "      <td>118</td>\n",
              "      <td>121</td>\n",
              "      <td>119</td>\n",
              "      <td>121</td>\n",
              "      <td>118</td>\n",
              "      <td>120</td>\n",
              "      <td>121</td>\n",
              "      <td>120</td>\n",
              "      <td>...</td>\n",
              "      <td>73</td>\n",
              "      <td>79</td>\n",
              "      <td>77</td>\n",
              "      <td>78</td>\n",
              "      <td>75</td>\n",
              "      <td>82</td>\n",
              "      <td>76</td>\n",
              "      <td>75</td>\n",
              "      <td>77</td>\n",
              "      <td>82</td>\n",
              "    </tr>\n",
              "  </tbody>\n",
              "</table>\n",
              "<p>20 rows × 10304 columns</p>\n",
              "</div>\n",
              "      <button class=\"colab-df-convert\" onclick=\"convertToInteractive('df-07cbef3c-1345-46e4-94a5-60290908cb3d')\"\n",
              "              title=\"Convert this dataframe to an interactive table.\"\n",
              "              style=\"display:none;\">\n",
              "        \n",
              "  <svg xmlns=\"http://www.w3.org/2000/svg\" height=\"24px\"viewBox=\"0 0 24 24\"\n",
              "       width=\"24px\">\n",
              "    <path d=\"M0 0h24v24H0V0z\" fill=\"none\"/>\n",
              "    <path d=\"M18.56 5.44l.94 2.06.94-2.06 2.06-.94-2.06-.94-.94-2.06-.94 2.06-2.06.94zm-11 1L8.5 8.5l.94-2.06 2.06-.94-2.06-.94L8.5 2.5l-.94 2.06-2.06.94zm10 10l.94 2.06.94-2.06 2.06-.94-2.06-.94-.94-2.06-.94 2.06-2.06.94z\"/><path d=\"M17.41 7.96l-1.37-1.37c-.4-.4-.92-.59-1.43-.59-.52 0-1.04.2-1.43.59L10.3 9.45l-7.72 7.72c-.78.78-.78 2.05 0 2.83L4 21.41c.39.39.9.59 1.41.59.51 0 1.02-.2 1.41-.59l7.78-7.78 2.81-2.81c.8-.78.8-2.07 0-2.86zM5.41 20L4 18.59l7.72-7.72 1.47 1.35L5.41 20z\"/>\n",
              "  </svg>\n",
              "      </button>\n",
              "      \n",
              "  <style>\n",
              "    .colab-df-container {\n",
              "      display:flex;\n",
              "      flex-wrap:wrap;\n",
              "      gap: 12px;\n",
              "    }\n",
              "\n",
              "    .colab-df-convert {\n",
              "      background-color: #E8F0FE;\n",
              "      border: none;\n",
              "      border-radius: 50%;\n",
              "      cursor: pointer;\n",
              "      display: none;\n",
              "      fill: #1967D2;\n",
              "      height: 32px;\n",
              "      padding: 0 0 0 0;\n",
              "      width: 32px;\n",
              "    }\n",
              "\n",
              "    .colab-df-convert:hover {\n",
              "      background-color: #E2EBFA;\n",
              "      box-shadow: 0px 1px 2px rgba(60, 64, 67, 0.3), 0px 1px 3px 1px rgba(60, 64, 67, 0.15);\n",
              "      fill: #174EA6;\n",
              "    }\n",
              "\n",
              "    [theme=dark] .colab-df-convert {\n",
              "      background-color: #3B4455;\n",
              "      fill: #D2E3FC;\n",
              "    }\n",
              "\n",
              "    [theme=dark] .colab-df-convert:hover {\n",
              "      background-color: #434B5C;\n",
              "      box-shadow: 0px 1px 3px 1px rgba(0, 0, 0, 0.15);\n",
              "      filter: drop-shadow(0px 1px 2px rgba(0, 0, 0, 0.3));\n",
              "      fill: #FFFFFF;\n",
              "    }\n",
              "  </style>\n",
              "\n",
              "      <script>\n",
              "        const buttonEl =\n",
              "          document.querySelector('#df-07cbef3c-1345-46e4-94a5-60290908cb3d button.colab-df-convert');\n",
              "        buttonEl.style.display =\n",
              "          google.colab.kernel.accessAllowed ? 'block' : 'none';\n",
              "\n",
              "        async function convertToInteractive(key) {\n",
              "          const element = document.querySelector('#df-07cbef3c-1345-46e4-94a5-60290908cb3d');\n",
              "          const dataTable =\n",
              "            await google.colab.kernel.invokeFunction('convertToInteractive',\n",
              "                                                     [key], {});\n",
              "          if (!dataTable) return;\n",
              "\n",
              "          const docLinkHtml = 'Like what you see? Visit the ' +\n",
              "            '<a target=\"_blank\" href=https://colab.research.google.com/notebooks/data_table.ipynb>data table notebook</a>'\n",
              "            + ' to learn more about interactive tables.';\n",
              "          element.innerHTML = '';\n",
              "          dataTable['output_type'] = 'display_data';\n",
              "          await google.colab.output.renderOutput(dataTable, element);\n",
              "          const docLink = document.createElement('div');\n",
              "          docLink.innerHTML = docLinkHtml;\n",
              "          element.appendChild(docLink);\n",
              "        }\n",
              "      </script>\n",
              "    </div>\n",
              "  </div>\n",
              "  "
            ]
          },
          "metadata": {},
          "execution_count": 18
        }
      ],
      "source": [
        "train_data.head(20)"
      ]
    },
    {
      "cell_type": "code",
      "execution_count": null,
      "metadata": {
        "id": "KFOeKKPExsqy"
      },
      "outputs": [],
      "source": [
        "A = np.linalg.inv(S).dot(SB)\n",
        "eigen_values, eigen_vectors = np.linalg.eigh(A)\n",
        "idx = eigen_values.argsort()[::-1]   \n",
        "eig_values = eigen_values[idx]\n",
        "eig_vectors = eigen_vectors[:,idx]\n",
        "U = eig_vectors[:, 0:39].T"
      ]
    },
    {
      "cell_type": "code",
      "execution_count": null,
      "metadata": {
        "id": "DSUFGWzE_u29",
        "colab": {
          "base_uri": "https://localhost:8080/",
          "height": 439
        },
        "outputId": "b2701984-0bd1-40c4-ac65-ed5519575caf"
      },
      "outputs": [
        {
          "output_type": "stream",
          "name": "stdout",
          "text": [
            "Acc for train--> 1.0\n",
            "Acc for test--> 0.945\n",
            "Acc for train--> 0.93\n",
            "Acc for test--> 0.865\n",
            "Acc for train--> 0.84\n",
            "Acc for test--> 0.76\n",
            "Acc for train--> 0.785\n",
            "Acc for test--> 0.715\n"
          ]
        },
        {
          "output_type": "display_data",
          "data": {
            "text/plain": [
              "<Figure size 432x288 with 1 Axes>"
            ],
            "image/png": "[encoded data removed]"
          },
          "metadata": {
            "needs_background": "light"
          }
        }
      ],
      "source": [
        "projected_train_data = np.array(np.matmul(X_train, U.T))\n",
        "projected_test_data = np.array(np.matmul(X_test, U.T))\n",
        "acc = []\n",
        "k_values = [1, 3, 5, 7]\n",
        "for k in k_values:\n",
        "    acc.append(classify(projected_train_data, y_train, projected_test_data, y_test, k))\n",
        "\n",
        "plt.plot(k_values, acc)\n",
        "plt.xlabel('Number of neighbors')\n",
        "plt.ylabel('Acc')\n",
        "plt.title('K tunning graph')\n",
        "plt.show()"
      ]
    },
    {
      "cell_type": "code",
      "execution_count": null,
      "metadata": {
        "id": "84GoZTvKINPw"
      },
      "outputs": [],
      "source": [
        "    # fig, axes = plt.subplots(10, 4, figsize=(40, 40),subplot_kw={'xticks':[], 'yticks':[] })\n",
        "    # for i, ax in enumerate(axes.flat):\n",
        "    #     if i >= 39:\n",
        "    #         break\n",
        "    #     ax.imshow(U[i].reshape(112, 92), cmap='gray')\n",
        "    #     ax.set_title('Face: {}'.format(i+1))\n",
        "    # plt.show()"
      ]
    },
    {
      "cell_type": "markdown",
      "metadata": {
        "id": "pUpsILTmWcwr"
      },
      "source": [
        "#7.Compare vs Non-Face Images (15Points)"
      ]
    },
    {
      "cell_type": "code",
      "execution_count": null,
      "metadata": {
        "id": "2Pno3d9G30po"
      },
      "outputs": [],
      "source": [
        "from PIL import Image"
      ]
    },
    {
      "cell_type": "code",
      "execution_count": null,
      "metadata": {
        "id": "3d7ti-g_f8YZ",
        "colab": {
          "base_uri": "https://localhost:8080/"
        },
        "outputId": "8dd69238-f942-400c-81e0-8dbc78f63ee6"
      },
      "outputs": [
        {
          "output_type": "stream",
          "name": "stdout",
          "text": [
            "(200, 10304)\n"
          ]
        }
      ],
      "source": [
        "from google.colab.patches import cv2_imshow\n",
        "from google.colab import drive\n",
        "import cv2\n",
        "\n",
        "\n",
        "images = []\n",
        "img_no =[]\n",
        "\n",
        "dir_path = r'/content/drive/MyDrive/resized_images/'\n",
        "images = []\n",
        "\n",
        "\n",
        "for filename in os.listdir(dir_path):\n",
        "   if filename.endswith('.jpg') or filename.endswith('.png') or filename.endswith('.pgm'):\n",
        "        image = Image.open(os.path.join(dir_path, filename))\n",
        "        image = image.resize((92, 112))\n",
        "        image = image.convert('L')\n",
        "        image_array = np.array(image).flatten()\n",
        "        images.append(image_array)\n",
        " \n",
        "images = np.array(images)\n",
        "print(images.shape)"
      ]
    },
    {
      "cell_type": "code",
      "execution_count": null,
      "metadata": {
        "id": "2QB7PQ1mHUn5"
      },
      "outputs": [],
      "source": [
        "nonfaces_no=200 #change the number of non faces in the dataset\n",
        "images_ = images[0:nonfaces_no]"
      ]
    },
    {
      "cell_type": "code",
      "execution_count": null,
      "metadata": {
        "id": "n57T3kxaLeRN",
        "colab": {
          "base_uri": "https://localhost:8080/"
        },
        "outputId": "746f54b7-7863-4cb6-e5ff-b9a480c8ad82"
      },
      "outputs": [
        {
          "output_type": "execute_result",
          "data": {
            "text/plain": [
              "(50, 10304)"
            ]
          },
          "metadata": {},
          "execution_count": 70
        }
      ],
      "source": [
        "images_.shape"
      ]
    },
    {
      "cell_type": "code",
      "execution_count": null,
      "metadata": {
        "id": "w3txB456yHbO"
      },
      "outputs": [],
      "source": [
        "face_labels=['1']*len(data)\n",
        "non_labels=['0']*len(images_)\n",
        "data2=np.concatenate((data,images_),axis=0)\n",
        "all_labels=face_labels + non_labels\n",
        "X_train2, y_train2, X_test2, y_test2 = custom_train_test_split(data2, all_labels, len(data2))\n",
        "train_data2 = pd.DataFrame(X_train2,index=y_train2)"
      ]
    },
    {
      "cell_type": "code",
      "execution_count": null,
      "metadata": {
        "id": "2qXFwKVo9Mln",
        "colab": {
          "base_uri": "https://localhost:8080/"
        },
        "outputId": "61d2be7e-d0e6-4301-a4ac-0dd9e28c18a0"
      },
      "outputs": [
        {
          "output_type": "stream",
          "name": "stdout",
          "text": [
            "centralized_data shape: (225, 10304)\n",
            "[-2.80626464e-09 -2.07403316e-09 -1.93918206e-09 ...  1.46611465e+06\n",
            "  2.70213697e+06  4.58787048e+06]\n"
          ]
        },
        {
          "output_type": "stream",
          "name": "stderr",
          "text": [
            "/usr/local/lib/python3.9/dist-packages/numpy/core/fromnumeric.py:3472: FutureWarning: In a future version, DataFrame.mean(axis=None) will return a scalar mean over the entire DataFrame. To retain the old behavior, use 'frame.mean(axis=0)' or just 'frame.mean()'\n",
            "  return mean(axis=axis, dtype=dtype, out=out, **kwargs)\n"
          ]
        }
      ],
      "source": [
        "centralized_data2 = X_train2 - np.mean(X_train2,axis=0, keepdims=True)\n",
        "print(\"centralized_data shape:\", centralized_data2.shape)\n",
        "cov_matrix2=np.cov(np.transpose(centralized_data2),bias=True)\n",
        "eigen_values2, eigen_vectors2 = np.linalg.eigh(cov_matrix2)\n",
        "mean2 = np.mean(train_data2)\n",
        "print(eigen_values2)\n"
      ]
    },
    {
      "cell_type": "markdown",
      "metadata": {
        "id": "cvymaDKvWQ7Q"
      },
      "source": [
        "\n",
        "* non faces pca"
      ]
    },
    {
      "cell_type": "code",
      "execution_count": null,
      "metadata": {
        "id": "RhrVzaRFWQEj"
      },
      "outputs": [],
      "source": [
        "eigen_values_sum2 = np.sum(eigen_values2)\n",
        "alphas = [0.8, 0.85, 0.9, 0.95]\n",
        "r2,eigen_vectors2=PCA(data2, alphas,eigen_vectors2,eigen_values2)\n"
      ]
    },
    {
      "cell_type": "code",
      "execution_count": null,
      "metadata": {
        "id": "kT7AyuUuWqJS",
        "colab": {
          "base_uri": "https://localhost:8080/",
          "height": 1000
        },
        "outputId": "eb20f611-2e0f-4593-ad9c-63904445b4f7"
      },
      "outputs": [
        {
          "output_type": "stream",
          "name": "stdout",
          "text": [
            "1\n",
            "Acc for train--> 1.0\n",
            "Acc for test--> 0.9511111111111111\n",
            "Classification report: \n",
            "              precision    recall  f1-score   support\n",
            "\n",
            "           0       1.00      0.56      0.72        25\n",
            "           1       0.95      1.00      0.97       200\n",
            "\n",
            "    accuracy                           0.95       225\n",
            "   macro avg       0.97      0.78      0.85       225\n",
            "weighted avg       0.95      0.95      0.94       225\n",
            "\n"
          ]
        },
        {
          "output_type": "display_data",
          "data": {
            "text/plain": [
              "<Figure size 432x288 with 2 Axes>"
            ],
            "image/png": "[encoded data removed]"
          },
          "metadata": {
            "needs_background": "light"
          }
        },
        {
          "output_type": "stream",
          "name": "stdout",
          "text": [
            "3\n",
            "Acc for train--> 0.9377777777777778\n",
            "Acc for test--> 0.9155555555555556\n",
            "Classification report: \n",
            "              precision    recall  f1-score   support\n",
            "\n",
            "           0       1.00      0.24      0.39        25\n",
            "           1       0.91      1.00      0.95       200\n",
            "\n",
            "    accuracy                           0.92       225\n",
            "   macro avg       0.96      0.62      0.67       225\n",
            "weighted avg       0.92      0.92      0.89       225\n",
            "\n"
          ]
        },
        {
          "output_type": "display_data",
          "data": {
            "text/plain": [
              "<Figure size 432x288 with 2 Axes>"
            ],
            "image/png": "[encoded data removed]"
          },
          "metadata": {
            "needs_background": "light"
          }
        },
        {
          "output_type": "stream",
          "name": "stdout",
          "text": [
            "5\n",
            "Acc for train--> 0.9333333333333333\n",
            "Acc for test--> 0.9111111111111111\n",
            "Classification report: \n",
            "              precision    recall  f1-score   support\n",
            "\n",
            "           0       1.00      0.20      0.33        25\n",
            "           1       0.91      1.00      0.95       200\n",
            "\n",
            "    accuracy                           0.91       225\n",
            "   macro avg       0.95      0.60      0.64       225\n",
            "weighted avg       0.92      0.91      0.88       225\n",
            "\n"
          ]
        },
        {
          "output_type": "display_data",
          "data": {
            "text/plain": [
              "<Figure size 432x288 with 2 Axes>"
            ],
            "image/png": "[encoded data removed]"
          },
          "metadata": {
            "needs_background": "light"
          }
        },
        {
          "output_type": "stream",
          "name": "stdout",
          "text": [
            "7\n",
            "Acc for train--> 0.92\n",
            "Acc for test--> 0.9066666666666666\n",
            "Classification report: \n",
            "              precision    recall  f1-score   support\n",
            "\n",
            "           0       1.00      0.16      0.28        25\n",
            "           1       0.90      1.00      0.95       200\n",
            "\n",
            "    accuracy                           0.91       225\n",
            "   macro avg       0.95      0.58      0.61       225\n",
            "weighted avg       0.92      0.91      0.88       225\n",
            "\n"
          ]
        },
        {
          "output_type": "display_data",
          "data": {
            "text/plain": [
              "<Figure size 432x288 with 2 Axes>"
            ],
            "image/png": "[encoded data removed]"
          },
          "metadata": {
            "needs_background": "light"
          }
        },
        {
          "output_type": "display_data",
          "data": {
            "text/plain": [
              "<Figure size 432x288 with 1 Axes>"
            ],
            "image/png": "[encoded data removed]"
          },
          "metadata": {
            "needs_background": "light"
          }
        },
        {
          "output_type": "stream",
          "name": "stdout",
          "text": [
            "1\n",
            "Acc for train--> 1.0\n",
            "Acc for test--> 0.9511111111111111\n",
            "Classification report: \n",
            "              precision    recall  f1-score   support\n",
            "\n",
            "           0       1.00      0.56      0.72        25\n",
            "           1       0.95      1.00      0.97       200\n",
            "\n",
            "    accuracy                           0.95       225\n",
            "   macro avg       0.97      0.78      0.85       225\n",
            "weighted avg       0.95      0.95      0.94       225\n",
            "\n"
          ]
        },
        {
          "output_type": "display_data",
          "data": {
            "text/plain": [
              "<Figure size 432x288 with 2 Axes>"
            ],
            "image/png": "[encoded data removed]"
          },
          "metadata": {
            "needs_background": "light"
          }
        },
        {
          "output_type": "stream",
          "name": "stdout",
          "text": [
            "3\n",
            "Acc for train--> 0.9377777777777778\n",
            "Acc for test--> 0.9155555555555556\n",
            "Classification report: \n",
            "              precision    recall  f1-score   support\n",
            "\n",
            "           0       1.00      0.24      0.39        25\n",
            "           1       0.91      1.00      0.95       200\n",
            "\n",
            "    accuracy                           0.92       225\n",
            "   macro avg       0.96      0.62      0.67       225\n",
            "weighted avg       0.92      0.92      0.89       225\n",
            "\n"
          ]
        },
        {
          "output_type": "display_data",
          "data": {
            "text/plain": [
              "<Figure size 432x288 with 2 Axes>"
            ],
            "image/png": "[encoded data removed]"
          },
          "metadata": {
            "needs_background": "light"
          }
        },
        {
          "output_type": "stream",
          "name": "stdout",
          "text": [
            "5\n",
            "Acc for train--> 0.9333333333333333\n",
            "Acc for test--> 0.9111111111111111\n",
            "Classification report: \n",
            "              precision    recall  f1-score   support\n",
            "\n",
            "           0       1.00      0.20      0.33        25\n",
            "           1       0.91      1.00      0.95       200\n",
            "\n",
            "    accuracy                           0.91       225\n",
            "   macro avg       0.95      0.60      0.64       225\n",
            "weighted avg       0.92      0.91      0.88       225\n",
            "\n"
          ]
        },
        {
          "output_type": "display_data",
          "data": {
            "text/plain": [
              "<Figure size 432x288 with 2 Axes>"
            ],
            "image/png": "[encoded data removed]"
          },
          "metadata": {
            "needs_background": "light"
          }
        },
        {
          "output_type": "stream",
          "name": "stdout",
          "text": [
            "7\n",
            "Acc for train--> 0.92\n",
            "Acc for test--> 0.9066666666666666\n",
            "Classification report: \n",
            "              precision    recall  f1-score   support\n",
            "\n",
            "           0       1.00      0.16      0.28        25\n",
            "           1       0.90      1.00      0.95       200\n",
            "\n",
            "    accuracy                           0.91       225\n",
            "   macro avg       0.95      0.58      0.61       225\n",
            "weighted avg       0.92      0.91      0.88       225\n",
            "\n"
          ]
        },
        {
          "output_type": "display_data",
          "data": {
            "text/plain": [
              "<Figure size 432x288 with 2 Axes>"
            ],
            "image/png": "[encoded data removed]"
          },
          "metadata": {
            "needs_background": "light"
          }
        },
        {
          "output_type": "display_data",
          "data": {
            "text/plain": [
              "<Figure size 432x288 with 1 Axes>"
            ],
            "image/png": "[encoded data removed]"
          },
          "metadata": {
            "needs_background": "light"
          }
        },
        {
          "output_type": "stream",
          "name": "stdout",
          "text": [
            "1\n",
            "Acc for train--> 1.0\n",
            "Acc for test--> 0.9511111111111111\n",
            "Classification report: \n",
            "              precision    recall  f1-score   support\n",
            "\n",
            "           0       1.00      0.56      0.72        25\n",
            "           1       0.95      1.00      0.97       200\n",
            "\n",
            "    accuracy                           0.95       225\n",
            "   macro avg       0.97      0.78      0.85       225\n",
            "weighted avg       0.95      0.95      0.94       225\n",
            "\n"
          ]
        },
        {
          "output_type": "display_data",
          "data": {
            "text/plain": [
              "<Figure size 432x288 with 2 Axes>"
            ],
            "image/png": "[encoded data removed]"
          },
          "metadata": {
            "needs_background": "light"
          }
        },
        {
          "output_type": "stream",
          "name": "stdout",
          "text": [
            "3\n",
            "Acc for train--> 0.9377777777777778\n",
            "Acc for test--> 0.9155555555555556\n",
            "Classification report: \n",
            "              precision    recall  f1-score   support\n",
            "\n",
            "           0       1.00      0.24      0.39        25\n",
            "           1       0.91      1.00      0.95       200\n",
            "\n",
            "    accuracy                           0.92       225\n",
            "   macro avg       0.96      0.62      0.67       225\n",
            "weighted avg       0.92      0.92      0.89       225\n",
            "\n"
          ]
        },
        {
          "output_type": "display_data",
          "data": {
            "text/plain": [
              "<Figure size 432x288 with 2 Axes>"
            ],
            "image/png": "[encoded data removed]"
          },
          "metadata": {
            "needs_background": "light"
          }
        },
        {
          "output_type": "stream",
          "name": "stdout",
          "text": [
            "5\n",
            "Acc for train--> 0.9333333333333333\n",
            "Acc for test--> 0.9111111111111111\n",
            "Classification report: \n",
            "              precision    recall  f1-score   support\n",
            "\n",
            "           0       1.00      0.20      0.33        25\n",
            "           1       0.91      1.00      0.95       200\n",
            "\n",
            "    accuracy                           0.91       225\n",
            "   macro avg       0.95      0.60      0.64       225\n",
            "weighted avg       0.92      0.91      0.88       225\n",
            "\n"
          ]
        },
        {
          "output_type": "display_data",
          "data": {
            "text/plain": [
              "<Figure size 432x288 with 2 Axes>"
            ],
            "image/png": "[encoded data removed]"
          },
          "metadata": {
            "needs_background": "light"
          }
        },
        {
          "output_type": "stream",
          "name": "stdout",
          "text": [
            "7\n",
            "Acc for train--> 0.92\n",
            "Acc for test--> 0.9066666666666666\n",
            "Classification report: \n",
            "              precision    recall  f1-score   support\n",
            "\n",
            "           0       1.00      0.16      0.28        25\n",
            "           1       0.90      1.00      0.95       200\n",
            "\n",
            "    accuracy                           0.91       225\n",
            "   macro avg       0.95      0.58      0.61       225\n",
            "weighted avg       0.92      0.91      0.88       225\n",
            "\n"
          ]
        },
        {
          "output_type": "display_data",
          "data": {
            "text/plain": [
              "<Figure size 432x288 with 2 Axes>"
            ],
            "image/png": "[encoded data removed]"
          },
          "metadata": {
            "needs_background": "light"
          }
        },
        {
          "output_type": "display_data",
          "data": {
            "text/plain": [
              "<Figure size 432x288 with 1 Axes>"
            ],
            "image/png": "[encoded data removed]"
          },
          "metadata": {
            "needs_background": "light"
          }
        },
        {
          "output_type": "stream",
          "name": "stdout",
          "text": [
            "1\n",
            "Acc for train--> 1.0\n",
            "Acc for test--> 0.9511111111111111\n",
            "Classification report: \n",
            "              precision    recall  f1-score   support\n",
            "\n",
            "           0       1.00      0.56      0.72        25\n",
            "           1       0.95      1.00      0.97       200\n",
            "\n",
            "    accuracy                           0.95       225\n",
            "   macro avg       0.97      0.78      0.85       225\n",
            "weighted avg       0.95      0.95      0.94       225\n",
            "\n"
          ]
        },
        {
          "output_type": "display_data",
          "data": {
            "text/plain": [
              "<Figure size 432x288 with 2 Axes>"
            ],
            "image/png": "[encoded data removed]"
          },
          "metadata": {
            "needs_background": "light"
          }
        },
        {
          "output_type": "stream",
          "name": "stdout",
          "text": [
            "3\n",
            "Acc for train--> 0.9377777777777778\n",
            "Acc for test--> 0.9155555555555556\n",
            "Classification report: \n",
            "              precision    recall  f1-score   support\n",
            "\n",
            "           0       1.00      0.24      0.39        25\n",
            "           1       0.91      1.00      0.95       200\n",
            "\n",
            "    accuracy                           0.92       225\n",
            "   macro avg       0.96      0.62      0.67       225\n",
            "weighted avg       0.92      0.92      0.89       225\n",
            "\n"
          ]
        },
        {
          "output_type": "display_data",
          "data": {
            "text/plain": [
              "<Figure size 432x288 with 2 Axes>"
            ],
            "image/png": "[encoded data removed]"
          },
          "metadata": {
            "needs_background": "light"
          }
        },
        {
          "output_type": "stream",
          "name": "stdout",
          "text": [
            "5\n",
            "Acc for train--> 0.9333333333333333\n",
            "Acc for test--> 0.9111111111111111\n",
            "Classification report: \n",
            "              precision    recall  f1-score   support\n",
            "\n",
            "           0       1.00      0.20      0.33        25\n",
            "           1       0.91      1.00      0.95       200\n",
            "\n",
            "    accuracy                           0.91       225\n",
            "   macro avg       0.95      0.60      0.64       225\n",
            "weighted avg       0.92      0.91      0.88       225\n",
            "\n"
          ]
        },
        {
          "output_type": "display_data",
          "data": {
            "text/plain": [
              "<Figure size 432x288 with 2 Axes>"
            ],
            "image/png": "[encoded data removed]"
          },
          "metadata": {
            "needs_background": "light"
          }
        },
        {
          "output_type": "stream",
          "name": "stdout",
          "text": [
            "7\n",
            "Acc for train--> 0.92\n",
            "Acc for test--> 0.9066666666666666\n",
            "Classification report: \n",
            "              precision    recall  f1-score   support\n",
            "\n",
            "           0       1.00      0.16      0.28        25\n",
            "           1       0.90      1.00      0.95       200\n",
            "\n",
            "    accuracy                           0.91       225\n",
            "   macro avg       0.95      0.58      0.61       225\n",
            "weighted avg       0.92      0.91      0.88       225\n",
            "\n"
          ]
        },
        {
          "output_type": "display_data",
          "data": {
            "text/plain": [
              "<Figure size 432x288 with 2 Axes>"
            ],
            "image/png": "[encoded data removed]"
          },
          "metadata": {
            "needs_background": "light"
          }
        },
        {
          "output_type": "display_data",
          "data": {
            "text/plain": [
              "<Figure size 432x288 with 1 Axes>"
            ],
            "image/png": "[encoded data removed]"
          },
          "metadata": {
            "needs_background": "light"
          }
        }
      ],
      "source": [
        "for i in r2:\n",
        "    U2 = eigen_vectors2[:,0:i].T\n",
        "    projected_train_data2 = np.array(np.matmul(centralized_data2, U2.T))\n",
        "    projected_test_data2 = np.array(np.matmul(X_test2 - np.array(mean2), U2.T))\n",
        "    acc2 = []\n",
        "    k_values = [1, 3, 5, 7]\n",
        "    for k in k_values:\n",
        "        acc2.append(classify(projected_train_data2, y_train2, projected_test_data2, y_test2, k, True))\n",
        "\n",
        "    plt.plot(k_values, acc2)\n",
        "    plt.xlabel('Number of neighbors')\n",
        "    plt.ylabel('Acc')\n",
        "    plt.title('K tunning graph')\n",
        "    plt.show()"
      ]
    },
    {
      "cell_type": "markdown",
      "metadata": {
        "id": "ZXnGA_pmdnrV"
      },
      "source": [
        "non faces LDA"
      ]
    },
    {
      "cell_type": "code",
      "execution_count": null,
      "metadata": {
        "id": "fkUm9Ffgdrut",
        "colab": {
          "base_uri": "https://localhost:8080/"
        },
        "outputId": "0c94f992-5692-4f10-bf26-5776faf9e983"
      },
      "outputs": [
        {
          "output_type": "stream",
          "name": "stderr",
          "text": [
            "/usr/local/lib/python3.9/dist-packages/numpy/core/fromnumeric.py:3472: FutureWarning: In a future version, DataFrame.mean(axis=None) will return a scalar mean over the entire DataFrame. To retain the old behavior, use 'frame.mean(axis=0)' or just 'frame.mean()'\n",
            "  return mean(axis=axis, dtype=dtype, out=out, **kwargs)\n"
          ]
        }
      ],
      "source": [
        "dimensions = 10304\n",
        "\n",
        "mean_vector2 = dict()\n",
        "for img_no in range(0, 2):\n",
        "  img_no = str(img_no)\n",
        "  img_data = train_data2.loc[img_no]\n",
        "  mean2 = np.mean(img_data)\n",
        "  mean_vector2[img_no] = mean2"
      ]
    },
    {
      "cell_type": "code",
      "execution_count": null,
      "metadata": {
        "id": "QrRZIDw4hGa6"
      },
      "outputs": [],
      "source": [
        "# Calculating S and Sb Matrices\n",
        "\n",
        "total_mean = np.mean(X_train2)\n",
        "nk = [200, nonfaces_no/2]\n",
        "\n",
        "S = np.zeros((dimensions,dimensions))\n",
        "SB = np.zeros((dimensions,dimensions))\n",
        "\n",
        "for img_no_ in range(0, 2):\n",
        "  img_no = str(img_no_)\n",
        "  img_data = train_data2.loc[img_no]\n",
        "  mean_vector2[img_no]\n",
        "  Z = np.array(img_data - mean_vector2[img_no])\n",
        "  S += Z.T.dot(Z)\n",
        "  diff = np.array(mean_vector2[img_no] - total_mean)\n",
        "  SB += nk[img_no_]*diff.dot(diff.T)"
      ]
    },
    {
      "cell_type": "code",
      "execution_count": null,
      "metadata": {
        "id": "ybDuo3Jah4-3"
      },
      "outputs": [],
      "source": [
        "A = np.linalg.inv(S).dot(SB)\n",
        "eigen_values2, eigen_vectors2 = np.linalg.eigh(A)\n",
        "idx = eigen_values2.argsort()[::-1]   \n",
        "eig_values2 = eigen_values2[idx]\n",
        "eig_vectors2 = eigen_vectors2[:,idx]\n",
        "U2 = eig_vectors2[:, 0:39].T"
      ]
    },
    {
      "cell_type": "code",
      "execution_count": null,
      "metadata": {
        "id": "i6OXe7V4urfc"
      },
      "outputs": [],
      "source": [
        "projected_train_data3 = np.array(np.matmul(X_train2, U2.T))\n",
        "projected_test_data3 = np.array(np.matmul(X_test2, U2.T))\n",
        "acc3 = []\n",
        "k_values = [1, 3, 5, 7]\n",
        "for k in k_values:\n",
        "    acc3.append(classify(projected_train_data3, y_train2, projected_test_data3, y_test2, k,True))\n",
        "\n",
        "plt.plot(k_values, acc3)\n",
        "plt.xlabel('Number of neighbors')\n",
        "plt.ylabel('Acc')\n",
        "plt.title('K tunning graph')\n",
        "plt.show()"
      ]
    },
    {
      "cell_type": "markdown",
      "metadata": {
        "id": "47SEK_cbC-_w"
      },
      "source": [
        "#8.Bonus (5Points)\n",
        "\n",
        "\n",
        "1.    **Diffrent traint test split**\n",
        "\n",
        "\n"
      ]
    },
    {
      "cell_type": "code",
      "execution_count": null,
      "metadata": {
        "id": "RLZVQOVlFMvo",
        "colab": {
          "base_uri": "https://localhost:8080/"
        },
        "outputId": "32825941-e712-44e0-a6d7-e4f7966b2184"
      },
      "outputs": [
        {
          "output_type": "execute_result",
          "data": {
            "text/plain": [
              "(400,)"
            ]
          },
          "metadata": {},
          "execution_count": 5
        }
      ],
      "source": [
        "labels=np.array(labels)\n",
        "labels.shape"
      ]
    },
    {
      "cell_type": "code",
      "execution_count": null,
      "metadata": {
        "id": "-P6RVh-eDU2L"
      },
      "outputs": [],
      "source": [
        "def bonus_train_test_split(data, labels):\n",
        "    X_train = []\n",
        "    y_train = []\n",
        "    X_test = []\n",
        "    y_test = []\n",
        "    for i in range(len(data)):\n",
        "        i_str = str(i)\n",
        "        i_str = i_str[-1]#last letter of name\n",
        "        if i_str == '7' or i_str == '8' or i_str == '9':\n",
        "            X_test.append(data[i])\n",
        "            y_test.append(labels[i])\n",
        "           \n",
        "        else:\n",
        "            X_train.append(data[i])\n",
        "            y_train.append(labels[i])\n",
        "    return X_train, y_train, X_test, y_test"
      ]
    },
    {
      "cell_type": "code",
      "execution_count": null,
      "metadata": {
        "id": "n1-QkHjvEjZt"
      },
      "outputs": [],
      "source": [
        "X_train, y_train, X_test, y_test = bonus_train_test_split(data, labels)\n",
        "train_data = pd.DataFrame(X_train,index=y_train)"
      ]
    },
    {
      "cell_type": "code",
      "execution_count": null,
      "metadata": {
        "id": "Lq8yCBY8Gra_",
        "colab": {
          "base_uri": "https://localhost:8080/"
        },
        "outputId": "43b0bd20-468e-4acb-95d2-81e5a83dd6e4"
      },
      "outputs": [
        {
          "output_type": "execute_result",
          "data": {
            "text/plain": [
              "(280, 10304)"
            ]
          },
          "metadata": {},
          "execution_count": 8
        }
      ],
      "source": [
        "train_data.shape"
      ]
    },
    {
      "cell_type": "markdown",
      "metadata": {
        "id": "J42cpBB2Egc7"
      },
      "source": [
        "* using PCA"
      ]
    },
    {
      "cell_type": "code",
      "execution_count": null,
      "metadata": {
        "id": "ur69oE21HNlB"
      },
      "outputs": [],
      "source": [
        "def dimensionality(alpha, eig_values):\n",
        "    sum = np.sum(eig_values)\n",
        "    r = 0\n",
        "    i = 0\n",
        "    for value in eig_values: \n",
        "        r = r + eig_values[i]\n",
        "        i = i + 1\n",
        "        if (r / sum >= alpha):\n",
        "            break\n",
        "    return i\n",
        "\n",
        "def reduced_dimensions(alpha_values, eig_values):\n",
        "    reduced_dimensions = []\n",
        "    for alpha in alpha_values:\n",
        "        reduced_dimensions.append(dimensionality(alpha, eig_values))\n",
        "    return reduced_dimensions\n",
        "\n",
        "def PCA(data, alphas,eigen_vectors,eigen_values):\n",
        "    r = reduced_dimensions(alphas, eigen_values)\n",
        "    return r, eigen_vectors\n",
        "\n",
        "  \n"
      ]
    },
    {
      "cell_type": "code",
      "execution_count": null,
      "metadata": {
        "id": "UwOoYVCzHg2U",
        "colab": {
          "base_uri": "https://localhost:8080/"
        },
        "outputId": "9d26f656-97ac-4424-829e-00c53d01a72a"
      },
      "outputs": [
        {
          "output_type": "stream",
          "name": "stdout",
          "text": [
            "centralized_data shape: (280, 10304)\n",
            "[-2.25859294e-09 -1.28607928e-09 -1.24765717e-09 ...  1.13179252e+06\n",
            "  2.03423818e+06  2.92654670e+06]\n"
          ]
        },
        {
          "output_type": "stream",
          "name": "stderr",
          "text": [
            "/usr/local/lib/python3.9/dist-packages/numpy/core/fromnumeric.py:3472: FutureWarning: In a future version, DataFrame.mean(axis=None) will return a scalar mean over the entire DataFrame. To retain the old behavior, use 'frame.mean(axis=0)' or just 'frame.mean()'\n",
            "  return mean(axis=axis, dtype=dtype, out=out, **kwargs)\n"
          ]
        }
      ],
      "source": [
        "centralized_data = X_train - np.mean(X_train,axis=0, keepdims=True)\n",
        "print(\"centralized_data shape:\", centralized_data.shape)\n",
        "cov_matrix=np.cov(np.transpose(centralized_data),bias=True)\n",
        "eigen_values, eigen_vectors = np.linalg.eigh(cov_matrix)\n",
        "mean = np.mean(train_data)\n",
        "print(eigen_values)"
      ]
    },
    {
      "cell_type": "code",
      "execution_count": null,
      "metadata": {
        "id": "1QXYOdD-HscY"
      },
      "outputs": [],
      "source": [
        "eigen_values_sum = np.sum(eigen_values)"
      ]
    },
    {
      "cell_type": "code",
      "execution_count": null,
      "metadata": {
        "id": "p7bxpA6FHscZ"
      },
      "outputs": [],
      "source": [
        "alphas = [0.8, 0.85, 0.9, 0.95]\n",
        "r,eigen_vectors=PCA(data, alphas,eigen_vectors,eigen_values)"
      ]
    },
    {
      "cell_type": "code",
      "execution_count": null,
      "metadata": {
        "id": "9CThDFjFHyhq"
      },
      "outputs": [],
      "source": [
        "def classify(X_train, y_train, X_test, y_test, n_neighbors):\n",
        "    model = KNeighborsClassifier(n_neighbors=n_neighbors)\n",
        "    model.fit(X_train, y_train)\n",
        "    y_predict = model.predict(X_test)\n",
        "    print(f\"Acc for train--> {model.score(X_train, y_train)}\")\n",
        "    acc = model.score(X_test, y_test)\n",
        "    print(f\"Acc for test--> {acc}\")\n",
        "    print(\"Classification report: \" )\n",
        "    print(classification_report(y_test, y_predict))\n",
        "    #skplt.metrics.plot_confusion_matrix(y_test, y_predict, figsize=(20, 20),title=f\"Confusion matrix for k= {n_neighbors}\");\n",
        "    return acc"
      ]
    },
    {
      "cell_type": "code",
      "execution_count": null,
      "metadata": {
        "id": "SMLN-OV6Hyhs",
        "colab": {
          "base_uri": "https://localhost:8080/",
          "height": 1000
        },
        "outputId": "b4da6396-8b1c-4159-a941-e309a8234a7d"
      },
      "outputs": [
        {
          "output_type": "stream",
          "name": "stdout",
          "text": [
            "Acc for train--> 1.0\n",
            "Acc for test--> 0.95\n",
            "Classification report: \n",
            "              precision    recall  f1-score   support\n",
            "\n",
            "           1       1.00      0.67      0.80         3\n",
            "          10       1.00      0.67      0.80         3\n",
            "          11       1.00      1.00      1.00         3\n",
            "          12       1.00      1.00      1.00         3\n",
            "          13       1.00      1.00      1.00         3\n",
            "          14       1.00      1.00      1.00         3\n",
            "          15       1.00      1.00      1.00         3\n",
            "          16       1.00      0.67      0.80         3\n",
            "          17       1.00      1.00      1.00         3\n",
            "          18       1.00      1.00      1.00         3\n",
            "          19       1.00      1.00      1.00         3\n",
            "           2       1.00      1.00      1.00         3\n",
            "          20       1.00      1.00      1.00         3\n",
            "          21       1.00      1.00      1.00         3\n",
            "          22       1.00      1.00      1.00         3\n",
            "          23       1.00      1.00      1.00         3\n",
            "          24       0.75      1.00      0.86         3\n",
            "          25       1.00      1.00      1.00         3\n",
            "          26       1.00      1.00      1.00         3\n",
            "          27       1.00      1.00      1.00         3\n",
            "          28       1.00      0.67      0.80         3\n",
            "          29       1.00      1.00      1.00         3\n",
            "           3       1.00      1.00      1.00         3\n",
            "          30       0.75      1.00      0.86         3\n",
            "          31       1.00      1.00      1.00         3\n",
            "          32       1.00      1.00      1.00         3\n",
            "          33       1.00      1.00      1.00         3\n",
            "          34       1.00      1.00      1.00         3\n",
            "          35       1.00      1.00      1.00         3\n",
            "          36       1.00      1.00      1.00         3\n",
            "          37       0.75      1.00      0.86         3\n",
            "          38       0.75      1.00      0.86         3\n",
            "          39       1.00      1.00      1.00         3\n",
            "           4       1.00      1.00      1.00         3\n",
            "          40       0.67      0.67      0.67         3\n",
            "           5       0.67      0.67      0.67         3\n",
            "           6       1.00      1.00      1.00         3\n",
            "           7       1.00      1.00      1.00         3\n",
            "           8       1.00      1.00      1.00         3\n",
            "           9       1.00      1.00      1.00         3\n",
            "\n",
            "    accuracy                           0.95       120\n",
            "   macro avg       0.96      0.95      0.95       120\n",
            "weighted avg       0.96      0.95      0.95       120\n",
            "\n",
            "Acc for train--> 0.9785714285714285\n",
            "Acc for test--> 0.925\n",
            "Classification report: \n",
            "              precision    recall  f1-score   support\n",
            "\n",
            "           1       1.00      0.67      0.80         3\n",
            "          10       1.00      0.67      0.80         3\n",
            "          11       1.00      0.67      0.80         3\n",
            "          12       1.00      1.00      1.00         3\n",
            "          13       1.00      1.00      1.00         3\n",
            "          14       1.00      1.00      1.00         3\n",
            "          15       0.60      1.00      0.75         3\n",
            "          16       1.00      0.67      0.80         3\n",
            "          17       1.00      1.00      1.00         3\n",
            "          18       0.75      1.00      0.86         3\n",
            "          19       1.00      0.67      0.80         3\n",
            "           2       1.00      1.00      1.00         3\n",
            "          20       1.00      1.00      1.00         3\n",
            "          21       0.75      1.00      0.86         3\n",
            "          22       1.00      1.00      1.00         3\n",
            "          23       1.00      1.00      1.00         3\n",
            "          24       0.75      1.00      0.86         3\n",
            "          25       1.00      1.00      1.00         3\n",
            "          26       1.00      1.00      1.00         3\n",
            "          27       1.00      1.00      1.00         3\n",
            "          28       1.00      0.33      0.50         3\n",
            "          29       1.00      1.00      1.00         3\n",
            "           3       1.00      1.00      1.00         3\n",
            "          30       0.75      1.00      0.86         3\n",
            "          31       1.00      1.00      1.00         3\n",
            "          32       1.00      1.00      1.00         3\n",
            "          33       1.00      1.00      1.00         3\n",
            "          34       1.00      1.00      1.00         3\n",
            "          35       1.00      1.00      1.00         3\n",
            "          36       1.00      1.00      1.00         3\n",
            "          37       0.75      1.00      0.86         3\n",
            "          38       1.00      1.00      1.00         3\n",
            "          39       1.00      1.00      1.00         3\n",
            "           4       1.00      1.00      1.00         3\n",
            "          40       1.00      0.67      0.80         3\n",
            "           5       0.67      0.67      0.67         3\n",
            "           6       1.00      1.00      1.00         3\n",
            "           7       1.00      1.00      1.00         3\n",
            "           8       0.75      1.00      0.86         3\n",
            "           9       1.00      1.00      1.00         3\n",
            "\n",
            "    accuracy                           0.93       120\n",
            "   macro avg       0.94      0.93      0.92       120\n",
            "weighted avg       0.94      0.93      0.92       120\n",
            "\n",
            "Acc for train--> 0.9428571428571428\n",
            "Acc for test--> 0.8666666666666667\n",
            "Classification report: \n",
            "              precision    recall  f1-score   support\n",
            "\n",
            "           1       1.00      0.33      0.50         3\n",
            "          10       1.00      0.67      0.80         3\n",
            "          11       1.00      0.67      0.80         3\n",
            "          12       1.00      0.67      0.80         3\n",
            "          13       1.00      1.00      1.00         3\n",
            "          14       1.00      0.67      0.80         3\n",
            "          15       0.60      1.00      0.75         3\n",
            "          16       1.00      0.67      0.80         3\n",
            "          17       0.60      1.00      0.75         3\n",
            "          18       0.75      1.00      0.86         3\n",
            "          19       1.00      0.67      0.80         3\n",
            "           2       1.00      1.00      1.00         3\n",
            "          20       1.00      1.00      1.00         3\n",
            "          21       0.75      1.00      0.86         3\n",
            "          22       0.75      1.00      0.86         3\n",
            "          23       1.00      1.00      1.00         3\n",
            "          24       0.75      1.00      0.86         3\n",
            "          25       0.75      1.00      0.86         3\n",
            "          26       1.00      1.00      1.00         3\n",
            "          27       1.00      1.00      1.00         3\n",
            "          28       1.00      0.33      0.50         3\n",
            "          29       1.00      1.00      1.00         3\n",
            "           3       1.00      1.00      1.00         3\n",
            "          30       0.50      1.00      0.67         3\n",
            "          31       1.00      1.00      1.00         3\n",
            "          32       1.00      0.67      0.80         3\n",
            "          33       1.00      1.00      1.00         3\n",
            "          34       1.00      1.00      1.00         3\n",
            "          35       1.00      0.67      0.80         3\n",
            "          36       1.00      0.67      0.80         3\n",
            "          37       0.75      1.00      0.86         3\n",
            "          38       1.00      1.00      1.00         3\n",
            "          39       1.00      1.00      1.00         3\n",
            "           4       0.75      1.00      0.86         3\n",
            "          40       1.00      0.67      0.80         3\n",
            "           5       0.67      0.67      0.67         3\n",
            "           6       1.00      1.00      1.00         3\n",
            "           7       0.75      1.00      0.86         3\n",
            "           8       1.00      1.00      1.00         3\n",
            "           9       1.00      0.67      0.80         3\n",
            "\n",
            "    accuracy                           0.87       120\n",
            "   macro avg       0.91      0.87      0.86       120\n",
            "weighted avg       0.91      0.87      0.86       120\n",
            "\n",
            "Acc for train--> 0.8785714285714286\n",
            "Acc for test--> 0.8\n",
            "Classification report: \n",
            "              precision    recall  f1-score   support\n",
            "\n",
            "           1       1.00      0.33      0.50         3\n",
            "          10       1.00      0.67      0.80         3\n",
            "          11       1.00      0.67      0.80         3\n",
            "          12       0.67      0.67      0.67         3\n",
            "          13       1.00      1.00      1.00         3\n",
            "          14       1.00      0.67      0.80         3\n",
            "          15       0.50      0.67      0.57         3\n",
            "          16       1.00      0.67      0.80         3\n",
            "          17       0.75      1.00      0.86         3\n",
            "          18       0.75      1.00      0.86         3\n",
            "          19       1.00      0.67      0.80         3\n",
            "           2       1.00      1.00      1.00         3\n",
            "          20       1.00      1.00      1.00         3\n",
            "          21       0.60      1.00      0.75         3\n",
            "          22       0.60      1.00      0.75         3\n",
            "          23       1.00      1.00      1.00         3\n",
            "          24       0.75      1.00      0.86         3\n",
            "          25       0.60      1.00      0.75         3\n",
            "          26       1.00      1.00      1.00         3\n",
            "          27       1.00      1.00      1.00         3\n",
            "          28       0.50      0.67      0.57         3\n",
            "          29       1.00      1.00      1.00         3\n",
            "           3       1.00      1.00      1.00         3\n",
            "          30       0.33      1.00      0.50         3\n",
            "          31       1.00      0.67      0.80         3\n",
            "          32       1.00      0.33      0.50         3\n",
            "          33       1.00      1.00      1.00         3\n",
            "          34       1.00      1.00      1.00         3\n",
            "          35       0.00      0.00      0.00         3\n",
            "          36       1.00      0.33      0.50         3\n",
            "          37       0.00      0.00      0.00         3\n",
            "          38       1.00      1.00      1.00         3\n",
            "          39       1.00      1.00      1.00         3\n",
            "           4       0.75      1.00      0.86         3\n",
            "          40       1.00      0.67      0.80         3\n",
            "           5       0.67      0.67      0.67         3\n",
            "           6       1.00      1.00      1.00         3\n",
            "           7       0.75      1.00      0.86         3\n",
            "           8       1.00      1.00      1.00         3\n",
            "           9       1.00      0.67      0.80         3\n",
            "\n",
            "    accuracy                           0.80       120\n",
            "   macro avg       0.83      0.80      0.79       120\n",
            "weighted avg       0.83      0.80      0.79       120\n",
            "\n"
          ]
        },
        {
          "output_type": "stream",
          "name": "stderr",
          "text": [
            "/usr/local/lib/python3.9/dist-packages/sklearn/metrics/_classification.py:1344: UndefinedMetricWarning: Precision and F-score are ill-defined and being set to 0.0 in labels with no predicted samples. Use `zero_division` parameter to control this behavior.\n",
            "  _warn_prf(average, modifier, msg_start, len(result))\n",
            "/usr/local/lib/python3.9/dist-packages/sklearn/metrics/_classification.py:1344: UndefinedMetricWarning: Precision and F-score are ill-defined and being set to 0.0 in labels with no predicted samples. Use `zero_division` parameter to control this behavior.\n",
            "  _warn_prf(average, modifier, msg_start, len(result))\n",
            "/usr/local/lib/python3.9/dist-packages/sklearn/metrics/_classification.py:1344: UndefinedMetricWarning: Precision and F-score are ill-defined and being set to 0.0 in labels with no predicted samples. Use `zero_division` parameter to control this behavior.\n",
            "  _warn_prf(average, modifier, msg_start, len(result))\n"
          ]
        },
        {
          "output_type": "display_data",
          "data": {
            "text/plain": [
              "<Figure size 432x288 with 1 Axes>"
            ],
            "image/png": "[encoded data removed]"
          },
          "metadata": {
            "needs_background": "light"
          }
        },
        {
          "output_type": "stream",
          "name": "stdout",
          "text": [
            "Acc for train--> 1.0\n",
            "Acc for test--> 0.95\n",
            "Classification report: \n",
            "              precision    recall  f1-score   support\n",
            "\n",
            "           1       0.75      1.00      0.86         3\n",
            "          10       1.00      0.67      0.80         3\n",
            "          11       1.00      1.00      1.00         3\n",
            "          12       1.00      1.00      1.00         3\n",
            "          13       1.00      1.00      1.00         3\n",
            "          14       1.00      1.00      1.00         3\n",
            "          15       0.75      1.00      0.86         3\n",
            "          16       1.00      0.67      0.80         3\n",
            "          17       1.00      1.00      1.00         3\n",
            "          18       1.00      1.00      1.00         3\n",
            "          19       1.00      0.67      0.80         3\n",
            "           2       1.00      1.00      1.00         3\n",
            "          20       1.00      1.00      1.00         3\n",
            "          21       1.00      1.00      1.00         3\n",
            "          22       1.00      1.00      1.00         3\n",
            "          23       1.00      1.00      1.00         3\n",
            "          24       1.00      1.00      1.00         3\n",
            "          25       1.00      1.00      1.00         3\n",
            "          26       1.00      1.00      1.00         3\n",
            "          27       1.00      1.00      1.00         3\n",
            "          28       1.00      0.67      0.80         3\n",
            "          29       1.00      1.00      1.00         3\n",
            "           3       1.00      1.00      1.00         3\n",
            "          30       1.00      1.00      1.00         3\n",
            "          31       1.00      1.00      1.00         3\n",
            "          32       1.00      1.00      1.00         3\n",
            "          33       1.00      1.00      1.00         3\n",
            "          34       1.00      1.00      1.00         3\n",
            "          35       1.00      1.00      1.00         3\n",
            "          36       1.00      1.00      1.00         3\n",
            "          37       0.75      1.00      0.86         3\n",
            "          38       0.75      1.00      0.86         3\n",
            "          39       1.00      1.00      1.00         3\n",
            "           4       1.00      1.00      1.00         3\n",
            "          40       0.67      0.67      0.67         3\n",
            "           5       0.67      0.67      0.67         3\n",
            "           6       1.00      1.00      1.00         3\n",
            "           7       1.00      1.00      1.00         3\n",
            "           8       1.00      1.00      1.00         3\n",
            "           9       1.00      1.00      1.00         3\n",
            "\n",
            "    accuracy                           0.95       120\n",
            "   macro avg       0.96      0.95      0.95       120\n",
            "weighted avg       0.96      0.95      0.95       120\n",
            "\n",
            "Acc for train--> 0.9892857142857143\n",
            "Acc for test--> 0.9333333333333333\n",
            "Classification report: \n",
            "              precision    recall  f1-score   support\n",
            "\n",
            "           1       0.75      1.00      0.86         3\n",
            "          10       1.00      0.33      0.50         3\n",
            "          11       1.00      0.67      0.80         3\n",
            "          12       1.00      1.00      1.00         3\n",
            "          13       1.00      1.00      1.00         3\n",
            "          14       1.00      1.00      1.00         3\n",
            "          15       0.60      1.00      0.75         3\n",
            "          16       1.00      0.67      0.80         3\n",
            "          17       1.00      1.00      1.00         3\n",
            "          18       0.75      1.00      0.86         3\n",
            "          19       1.00      0.67      0.80         3\n",
            "           2       1.00      1.00      1.00         3\n",
            "          20       1.00      1.00      1.00         3\n",
            "          21       1.00      1.00      1.00         3\n",
            "          22       1.00      1.00      1.00         3\n",
            "          23       1.00      1.00      1.00         3\n",
            "          24       1.00      1.00      1.00         3\n",
            "          25       1.00      1.00      1.00         3\n",
            "          26       1.00      1.00      1.00         3\n",
            "          27       1.00      1.00      1.00         3\n",
            "          28       1.00      0.67      0.80         3\n",
            "          29       1.00      1.00      1.00         3\n",
            "           3       1.00      1.00      1.00         3\n",
            "          30       1.00      1.00      1.00         3\n",
            "          31       1.00      1.00      1.00         3\n",
            "          32       1.00      1.00      1.00         3\n",
            "          33       1.00      1.00      1.00         3\n",
            "          34       1.00      1.00      1.00         3\n",
            "          35       1.00      1.00      1.00         3\n",
            "          36       1.00      1.00      1.00         3\n",
            "          37       0.75      1.00      0.86         3\n",
            "          38       0.60      1.00      0.75         3\n",
            "          39       1.00      1.00      1.00         3\n",
            "           4       1.00      1.00      1.00         3\n",
            "          40       1.00      0.67      0.80         3\n",
            "           5       0.67      0.67      0.67         3\n",
            "           6       1.00      1.00      1.00         3\n",
            "           7       1.00      1.00      1.00         3\n",
            "           8       1.00      1.00      1.00         3\n",
            "           9       1.00      1.00      1.00         3\n",
            "\n",
            "    accuracy                           0.93       120\n",
            "   macro avg       0.95      0.93      0.93       120\n",
            "weighted avg       0.95      0.93      0.93       120\n",
            "\n",
            "Acc for train--> 0.9428571428571428\n",
            "Acc for test--> 0.9083333333333333\n",
            "Classification report: \n",
            "              precision    recall  f1-score   support\n",
            "\n",
            "           1       1.00      0.67      0.80         3\n",
            "          10       1.00      0.67      0.80         3\n",
            "          11       1.00      0.67      0.80         3\n",
            "          12       1.00      1.00      1.00         3\n",
            "          13       1.00      1.00      1.00         3\n",
            "          14       1.00      1.00      1.00         3\n",
            "          15       0.60      1.00      0.75         3\n",
            "          16       1.00      1.00      1.00         3\n",
            "          17       0.60      1.00      0.75         3\n",
            "          18       0.75      1.00      0.86         3\n",
            "          19       1.00      0.67      0.80         3\n",
            "           2       0.75      1.00      0.86         3\n",
            "          20       1.00      0.67      0.80         3\n",
            "          21       1.00      1.00      1.00         3\n",
            "          22       1.00      1.00      1.00         3\n",
            "          23       1.00      1.00      1.00         3\n",
            "          24       1.00      1.00      1.00         3\n",
            "          25       1.00      1.00      1.00         3\n",
            "          26       1.00      1.00      1.00         3\n",
            "          27       1.00      1.00      1.00         3\n",
            "          28       1.00      0.67      0.80         3\n",
            "          29       1.00      1.00      1.00         3\n",
            "           3       1.00      1.00      1.00         3\n",
            "          30       1.00      1.00      1.00         3\n",
            "          31       1.00      1.00      1.00         3\n",
            "          32       1.00      0.67      0.80         3\n",
            "          33       1.00      1.00      1.00         3\n",
            "          34       1.00      1.00      1.00         3\n",
            "          35       1.00      1.00      1.00         3\n",
            "          36       1.00      0.33      0.50         3\n",
            "          37       0.75      1.00      0.86         3\n",
            "          38       0.75      1.00      0.86         3\n",
            "          39       1.00      1.00      1.00         3\n",
            "           4       0.75      1.00      0.86         3\n",
            "          40       1.00      0.67      0.80         3\n",
            "           5       0.67      0.67      0.67         3\n",
            "           6       1.00      1.00      1.00         3\n",
            "           7       0.75      1.00      0.86         3\n",
            "           8       1.00      1.00      1.00         3\n",
            "           9       1.00      1.00      1.00         3\n",
            "\n",
            "    accuracy                           0.91       120\n",
            "   macro avg       0.93      0.91      0.91       120\n",
            "weighted avg       0.93      0.91      0.91       120\n",
            "\n",
            "Acc for train--> 0.9035714285714286\n",
            "Acc for test--> 0.8333333333333334\n",
            "Classification report: \n",
            "              precision    recall  f1-score   support\n",
            "\n",
            "           1       1.00      0.67      0.80         3\n",
            "          10       1.00      0.67      0.80         3\n",
            "          11       1.00      0.67      0.80         3\n",
            "          12       1.00      1.00      1.00         3\n",
            "          13       0.75      1.00      0.86         3\n",
            "          14       1.00      0.67      0.80         3\n",
            "          15       0.60      1.00      0.75         3\n",
            "          16       1.00      1.00      1.00         3\n",
            "          17       0.50      1.00      0.67         3\n",
            "          18       0.75      1.00      0.86         3\n",
            "          19       1.00      0.67      0.80         3\n",
            "           2       0.75      1.00      0.86         3\n",
            "          20       1.00      1.00      1.00         3\n",
            "          21       0.75      1.00      0.86         3\n",
            "          22       0.75      1.00      0.86         3\n",
            "          23       1.00      0.67      0.80         3\n",
            "          24       1.00      1.00      1.00         3\n",
            "          25       0.67      0.67      0.67         3\n",
            "          26       1.00      1.00      1.00         3\n",
            "          27       1.00      1.00      1.00         3\n",
            "          28       0.50      0.67      0.57         3\n",
            "          29       1.00      1.00      1.00         3\n",
            "           3       0.75      1.00      0.86         3\n",
            "          30       1.00      1.00      1.00         3\n",
            "          31       1.00      0.67      0.80         3\n",
            "          32       1.00      0.67      0.80         3\n",
            "          33       1.00      1.00      1.00         3\n",
            "          34       1.00      1.00      1.00         3\n",
            "          35       0.00      0.00      0.00         3\n",
            "          36       0.00      0.00      0.00         3\n",
            "          37       0.50      0.33      0.40         3\n",
            "          38       0.75      1.00      0.86         3\n",
            "          39       1.00      1.00      1.00         3\n",
            "           4       1.00      1.00      1.00         3\n",
            "          40       0.67      0.67      0.67         3\n",
            "           5       0.50      0.67      0.57         3\n",
            "           6       1.00      1.00      1.00         3\n",
            "           7       0.75      1.00      0.86         3\n",
            "           8       1.00      1.00      1.00         3\n",
            "           9       1.00      1.00      1.00         3\n",
            "\n",
            "    accuracy                           0.83       120\n",
            "   macro avg       0.82      0.83      0.81       120\n",
            "weighted avg       0.82      0.83      0.81       120\n",
            "\n"
          ]
        },
        {
          "output_type": "stream",
          "name": "stderr",
          "text": [
            "/usr/local/lib/python3.9/dist-packages/sklearn/metrics/_classification.py:1344: UndefinedMetricWarning: Precision and F-score are ill-defined and being set to 0.0 in labels with no predicted samples. Use `zero_division` parameter to control this behavior.\n",
            "  _warn_prf(average, modifier, msg_start, len(result))\n",
            "/usr/local/lib/python3.9/dist-packages/sklearn/metrics/_classification.py:1344: UndefinedMetricWarning: Precision and F-score are ill-defined and being set to 0.0 in labels with no predicted samples. Use `zero_division` parameter to control this behavior.\n",
            "  _warn_prf(average, modifier, msg_start, len(result))\n",
            "/usr/local/lib/python3.9/dist-packages/sklearn/metrics/_classification.py:1344: UndefinedMetricWarning: Precision and F-score are ill-defined and being set to 0.0 in labels with no predicted samples. Use `zero_division` parameter to control this behavior.\n",
            "  _warn_prf(average, modifier, msg_start, len(result))\n"
          ]
        },
        {
          "output_type": "display_data",
          "data": {
            "text/plain": [
              "<Figure size 432x288 with 1 Axes>"
            ],
            "image/png": "[encoded data removed]"
          },
          "metadata": {
            "needs_background": "light"
          }
        },
        {
          "output_type": "stream",
          "name": "stdout",
          "text": [
            "Acc for train--> 1.0\n",
            "Acc for test--> 0.95\n",
            "Classification report: \n",
            "              precision    recall  f1-score   support\n",
            "\n",
            "           1       0.75      1.00      0.86         3\n",
            "          10       1.00      0.67      0.80         3\n",
            "          11       1.00      1.00      1.00         3\n",
            "          12       1.00      1.00      1.00         3\n",
            "          13       1.00      1.00      1.00         3\n",
            "          14       1.00      1.00      1.00         3\n",
            "          15       0.75      1.00      0.86         3\n",
            "          16       1.00      0.67      0.80         3\n",
            "          17       1.00      1.00      1.00         3\n",
            "          18       1.00      1.00      1.00         3\n",
            "          19       1.00      0.67      0.80         3\n",
            "           2       1.00      1.00      1.00         3\n",
            "          20       1.00      1.00      1.00         3\n",
            "          21       1.00      1.00      1.00         3\n",
            "          22       1.00      1.00      1.00         3\n",
            "          23       1.00      1.00      1.00         3\n",
            "          24       1.00      1.00      1.00         3\n",
            "          25       1.00      1.00      1.00         3\n",
            "          26       1.00      1.00      1.00         3\n",
            "          27       1.00      1.00      1.00         3\n",
            "          28       1.00      0.67      0.80         3\n",
            "          29       1.00      1.00      1.00         3\n",
            "           3       1.00      1.00      1.00         3\n",
            "          30       1.00      1.00      1.00         3\n",
            "          31       1.00      1.00      1.00         3\n",
            "          32       1.00      1.00      1.00         3\n",
            "          33       1.00      1.00      1.00         3\n",
            "          34       1.00      1.00      1.00         3\n",
            "          35       1.00      1.00      1.00         3\n",
            "          36       1.00      1.00      1.00         3\n",
            "          37       0.75      1.00      0.86         3\n",
            "          38       0.75      1.00      0.86         3\n",
            "          39       1.00      1.00      1.00         3\n",
            "           4       1.00      1.00      1.00         3\n",
            "          40       0.67      0.67      0.67         3\n",
            "           5       0.67      0.67      0.67         3\n",
            "           6       1.00      1.00      1.00         3\n",
            "           7       1.00      1.00      1.00         3\n",
            "           8       1.00      1.00      1.00         3\n",
            "           9       1.00      1.00      1.00         3\n",
            "\n",
            "    accuracy                           0.95       120\n",
            "   macro avg       0.96      0.95      0.95       120\n",
            "weighted avg       0.96      0.95      0.95       120\n",
            "\n",
            "Acc for train--> 0.9892857142857143\n",
            "Acc for test--> 0.9333333333333333\n",
            "Classification report: \n",
            "              precision    recall  f1-score   support\n",
            "\n",
            "           1       0.75      1.00      0.86         3\n",
            "          10       1.00      0.33      0.50         3\n",
            "          11       1.00      0.67      0.80         3\n",
            "          12       1.00      1.00      1.00         3\n",
            "          13       1.00      1.00      1.00         3\n",
            "          14       1.00      1.00      1.00         3\n",
            "          15       0.60      1.00      0.75         3\n",
            "          16       1.00      0.67      0.80         3\n",
            "          17       1.00      1.00      1.00         3\n",
            "          18       0.75      1.00      0.86         3\n",
            "          19       1.00      0.67      0.80         3\n",
            "           2       1.00      1.00      1.00         3\n",
            "          20       1.00      1.00      1.00         3\n",
            "          21       1.00      1.00      1.00         3\n",
            "          22       1.00      1.00      1.00         3\n",
            "          23       1.00      1.00      1.00         3\n",
            "          24       1.00      1.00      1.00         3\n",
            "          25       1.00      1.00      1.00         3\n",
            "          26       1.00      1.00      1.00         3\n",
            "          27       1.00      1.00      1.00         3\n",
            "          28       1.00      0.67      0.80         3\n",
            "          29       1.00      1.00      1.00         3\n",
            "           3       1.00      1.00      1.00         3\n",
            "          30       1.00      1.00      1.00         3\n",
            "          31       1.00      1.00      1.00         3\n",
            "          32       1.00      1.00      1.00         3\n",
            "          33       1.00      1.00      1.00         3\n",
            "          34       1.00      1.00      1.00         3\n",
            "          35       1.00      1.00      1.00         3\n",
            "          36       1.00      1.00      1.00         3\n",
            "          37       0.75      1.00      0.86         3\n",
            "          38       0.60      1.00      0.75         3\n",
            "          39       1.00      1.00      1.00         3\n",
            "           4       1.00      1.00      1.00         3\n",
            "          40       1.00      0.67      0.80         3\n",
            "           5       0.67      0.67      0.67         3\n",
            "           6       1.00      1.00      1.00         3\n",
            "           7       1.00      1.00      1.00         3\n",
            "           8       1.00      1.00      1.00         3\n",
            "           9       1.00      1.00      1.00         3\n",
            "\n",
            "    accuracy                           0.93       120\n",
            "   macro avg       0.95      0.93      0.93       120\n",
            "weighted avg       0.95      0.93      0.93       120\n",
            "\n",
            "Acc for train--> 0.9428571428571428\n",
            "Acc for test--> 0.9083333333333333\n",
            "Classification report: \n",
            "              precision    recall  f1-score   support\n",
            "\n",
            "           1       1.00      0.67      0.80         3\n",
            "          10       1.00      0.67      0.80         3\n",
            "          11       1.00      0.67      0.80         3\n",
            "          12       1.00      1.00      1.00         3\n",
            "          13       1.00      1.00      1.00         3\n",
            "          14       1.00      1.00      1.00         3\n",
            "          15       0.60      1.00      0.75         3\n",
            "          16       1.00      1.00      1.00         3\n",
            "          17       0.60      1.00      0.75         3\n",
            "          18       0.75      1.00      0.86         3\n",
            "          19       1.00      0.67      0.80         3\n",
            "           2       0.75      1.00      0.86         3\n",
            "          20       1.00      0.67      0.80         3\n",
            "          21       1.00      1.00      1.00         3\n",
            "          22       1.00      1.00      1.00         3\n",
            "          23       1.00      1.00      1.00         3\n",
            "          24       1.00      1.00      1.00         3\n",
            "          25       1.00      1.00      1.00         3\n",
            "          26       1.00      1.00      1.00         3\n",
            "          27       1.00      1.00      1.00         3\n",
            "          28       1.00      0.67      0.80         3\n",
            "          29       1.00      1.00      1.00         3\n",
            "           3       1.00      1.00      1.00         3\n",
            "          30       1.00      1.00      1.00         3\n",
            "          31       1.00      1.00      1.00         3\n",
            "          32       1.00      0.67      0.80         3\n",
            "          33       1.00      1.00      1.00         3\n",
            "          34       1.00      1.00      1.00         3\n",
            "          35       1.00      1.00      1.00         3\n",
            "          36       1.00      0.33      0.50         3\n",
            "          37       0.75      1.00      0.86         3\n",
            "          38       0.75      1.00      0.86         3\n",
            "          39       1.00      1.00      1.00         3\n",
            "           4       0.75      1.00      0.86         3\n",
            "          40       1.00      0.67      0.80         3\n",
            "           5       0.67      0.67      0.67         3\n",
            "           6       1.00      1.00      1.00         3\n",
            "           7       0.75      1.00      0.86         3\n",
            "           8       1.00      1.00      1.00         3\n",
            "           9       1.00      1.00      1.00         3\n",
            "\n",
            "    accuracy                           0.91       120\n",
            "   macro avg       0.93      0.91      0.91       120\n",
            "weighted avg       0.93      0.91      0.91       120\n",
            "\n",
            "Acc for train--> 0.9035714285714286\n",
            "Acc for test--> 0.8333333333333334\n",
            "Classification report: \n",
            "              precision    recall  f1-score   support\n",
            "\n",
            "           1       1.00      0.67      0.80         3\n",
            "          10       1.00      0.67      0.80         3\n",
            "          11       1.00      0.67      0.80         3\n",
            "          12       1.00      1.00      1.00         3\n",
            "          13       0.75      1.00      0.86         3\n",
            "          14       1.00      0.67      0.80         3\n",
            "          15       0.60      1.00      0.75         3\n",
            "          16       1.00      1.00      1.00         3\n",
            "          17       0.50      1.00      0.67         3\n",
            "          18       0.75      1.00      0.86         3\n",
            "          19       1.00      0.67      0.80         3\n",
            "           2       0.75      1.00      0.86         3\n",
            "          20       1.00      1.00      1.00         3\n",
            "          21       0.75      1.00      0.86         3\n",
            "          22       0.75      1.00      0.86         3\n",
            "          23       1.00      0.67      0.80         3\n",
            "          24       1.00      1.00      1.00         3\n",
            "          25       0.67      0.67      0.67         3\n",
            "          26       1.00      1.00      1.00         3\n",
            "          27       1.00      1.00      1.00         3\n",
            "          28       0.50      0.67      0.57         3\n",
            "          29       1.00      1.00      1.00         3\n",
            "           3       0.75      1.00      0.86         3\n",
            "          30       1.00      1.00      1.00         3\n",
            "          31       1.00      0.67      0.80         3\n",
            "          32       1.00      0.67      0.80         3\n",
            "          33       1.00      1.00      1.00         3\n",
            "          34       1.00      1.00      1.00         3\n",
            "          35       0.00      0.00      0.00         3\n",
            "          36       0.00      0.00      0.00         3\n",
            "          37       0.50      0.33      0.40         3\n",
            "          38       0.75      1.00      0.86         3\n",
            "          39       1.00      1.00      1.00         3\n",
            "           4       1.00      1.00      1.00         3\n",
            "          40       0.67      0.67      0.67         3\n",
            "           5       0.50      0.67      0.57         3\n",
            "           6       1.00      1.00      1.00         3\n",
            "           7       0.75      1.00      0.86         3\n",
            "           8       1.00      1.00      1.00         3\n",
            "           9       1.00      1.00      1.00         3\n",
            "\n",
            "    accuracy                           0.83       120\n",
            "   macro avg       0.82      0.83      0.81       120\n",
            "weighted avg       0.82      0.83      0.81       120\n",
            "\n"
          ]
        },
        {
          "output_type": "stream",
          "name": "stderr",
          "text": [
            "/usr/local/lib/python3.9/dist-packages/sklearn/metrics/_classification.py:1344: UndefinedMetricWarning: Precision and F-score are ill-defined and being set to 0.0 in labels with no predicted samples. Use `zero_division` parameter to control this behavior.\n",
            "  _warn_prf(average, modifier, msg_start, len(result))\n",
            "/usr/local/lib/python3.9/dist-packages/sklearn/metrics/_classification.py:1344: UndefinedMetricWarning: Precision and F-score are ill-defined and being set to 0.0 in labels with no predicted samples. Use `zero_division` parameter to control this behavior.\n",
            "  _warn_prf(average, modifier, msg_start, len(result))\n",
            "/usr/local/lib/python3.9/dist-packages/sklearn/metrics/_classification.py:1344: UndefinedMetricWarning: Precision and F-score are ill-defined and being set to 0.0 in labels with no predicted samples. Use `zero_division` parameter to control this behavior.\n",
            "  _warn_prf(average, modifier, msg_start, len(result))\n"
          ]
        },
        {
          "output_type": "display_data",
          "data": {
            "text/plain": [
              "<Figure size 432x288 with 1 Axes>"
            ],
            "image/png": "[encoded data removed]"
          },
          "metadata": {
            "needs_background": "light"
          }
        },
        {
          "output_type": "stream",
          "name": "stdout",
          "text": [
            "Acc for train--> 1.0\n",
            "Acc for test--> 0.95\n",
            "Classification report: \n",
            "              precision    recall  f1-score   support\n",
            "\n",
            "           1       0.75      1.00      0.86         3\n",
            "          10       1.00      0.67      0.80         3\n",
            "          11       1.00      1.00      1.00         3\n",
            "          12       1.00      1.00      1.00         3\n",
            "          13       1.00      1.00      1.00         3\n",
            "          14       1.00      1.00      1.00         3\n",
            "          15       0.75      1.00      0.86         3\n",
            "          16       1.00      0.67      0.80         3\n",
            "          17       1.00      1.00      1.00         3\n",
            "          18       1.00      1.00      1.00         3\n",
            "          19       1.00      0.67      0.80         3\n",
            "           2       1.00      1.00      1.00         3\n",
            "          20       1.00      1.00      1.00         3\n",
            "          21       1.00      1.00      1.00         3\n",
            "          22       1.00      1.00      1.00         3\n",
            "          23       1.00      1.00      1.00         3\n",
            "          24       1.00      1.00      1.00         3\n",
            "          25       1.00      1.00      1.00         3\n",
            "          26       1.00      1.00      1.00         3\n",
            "          27       1.00      1.00      1.00         3\n",
            "          28       1.00      0.67      0.80         3\n",
            "          29       1.00      1.00      1.00         3\n",
            "           3       1.00      1.00      1.00         3\n",
            "          30       1.00      1.00      1.00         3\n",
            "          31       1.00      1.00      1.00         3\n",
            "          32       1.00      1.00      1.00         3\n",
            "          33       1.00      1.00      1.00         3\n",
            "          34       1.00      1.00      1.00         3\n",
            "          35       1.00      1.00      1.00         3\n",
            "          36       1.00      1.00      1.00         3\n",
            "          37       0.75      1.00      0.86         3\n",
            "          38       0.75      1.00      0.86         3\n",
            "          39       1.00      1.00      1.00         3\n",
            "           4       1.00      1.00      1.00         3\n",
            "          40       0.67      0.67      0.67         3\n",
            "           5       0.67      0.67      0.67         3\n",
            "           6       1.00      1.00      1.00         3\n",
            "           7       1.00      1.00      1.00         3\n",
            "           8       1.00      1.00      1.00         3\n",
            "           9       1.00      1.00      1.00         3\n",
            "\n",
            "    accuracy                           0.95       120\n",
            "   macro avg       0.96      0.95      0.95       120\n",
            "weighted avg       0.96      0.95      0.95       120\n",
            "\n",
            "Acc for train--> 0.9892857142857143\n",
            "Acc for test--> 0.9333333333333333\n",
            "Classification report: \n",
            "              precision    recall  f1-score   support\n",
            "\n",
            "           1       0.75      1.00      0.86         3\n",
            "          10       1.00      0.33      0.50         3\n",
            "          11       1.00      0.67      0.80         3\n",
            "          12       1.00      1.00      1.00         3\n",
            "          13       1.00      1.00      1.00         3\n",
            "          14       1.00      1.00      1.00         3\n",
            "          15       0.60      1.00      0.75         3\n",
            "          16       1.00      0.67      0.80         3\n",
            "          17       1.00      1.00      1.00         3\n",
            "          18       0.75      1.00      0.86         3\n",
            "          19       1.00      0.67      0.80         3\n",
            "           2       1.00      1.00      1.00         3\n",
            "          20       1.00      1.00      1.00         3\n",
            "          21       1.00      1.00      1.00         3\n",
            "          22       1.00      1.00      1.00         3\n",
            "          23       1.00      1.00      1.00         3\n",
            "          24       1.00      1.00      1.00         3\n",
            "          25       1.00      1.00      1.00         3\n",
            "          26       1.00      1.00      1.00         3\n",
            "          27       1.00      1.00      1.00         3\n",
            "          28       1.00      0.67      0.80         3\n",
            "          29       1.00      1.00      1.00         3\n",
            "           3       1.00      1.00      1.00         3\n",
            "          30       1.00      1.00      1.00         3\n",
            "          31       1.00      1.00      1.00         3\n",
            "          32       1.00      1.00      1.00         3\n",
            "          33       1.00      1.00      1.00         3\n",
            "          34       1.00      1.00      1.00         3\n",
            "          35       1.00      1.00      1.00         3\n",
            "          36       1.00      1.00      1.00         3\n",
            "          37       0.75      1.00      0.86         3\n",
            "          38       0.60      1.00      0.75         3\n",
            "          39       1.00      1.00      1.00         3\n",
            "           4       1.00      1.00      1.00         3\n",
            "          40       1.00      0.67      0.80         3\n",
            "           5       0.67      0.67      0.67         3\n",
            "           6       1.00      1.00      1.00         3\n",
            "           7       1.00      1.00      1.00         3\n",
            "           8       1.00      1.00      1.00         3\n",
            "           9       1.00      1.00      1.00         3\n",
            "\n",
            "    accuracy                           0.93       120\n",
            "   macro avg       0.95      0.93      0.93       120\n",
            "weighted avg       0.95      0.93      0.93       120\n",
            "\n",
            "Acc for train--> 0.9428571428571428\n",
            "Acc for test--> 0.9083333333333333\n",
            "Classification report: \n",
            "              precision    recall  f1-score   support\n",
            "\n",
            "           1       1.00      0.67      0.80         3\n",
            "          10       1.00      0.67      0.80         3\n",
            "          11       1.00      0.67      0.80         3\n",
            "          12       1.00      1.00      1.00         3\n",
            "          13       1.00      1.00      1.00         3\n",
            "          14       1.00      1.00      1.00         3\n",
            "          15       0.60      1.00      0.75         3\n",
            "          16       1.00      1.00      1.00         3\n",
            "          17       0.60      1.00      0.75         3\n",
            "          18       0.75      1.00      0.86         3\n",
            "          19       1.00      0.67      0.80         3\n",
            "           2       0.75      1.00      0.86         3\n",
            "          20       1.00      0.67      0.80         3\n",
            "          21       1.00      1.00      1.00         3\n",
            "          22       1.00      1.00      1.00         3\n",
            "          23       1.00      1.00      1.00         3\n",
            "          24       1.00      1.00      1.00         3\n",
            "          25       1.00      1.00      1.00         3\n",
            "          26       1.00      1.00      1.00         3\n",
            "          27       1.00      1.00      1.00         3\n",
            "          28       1.00      0.67      0.80         3\n",
            "          29       1.00      1.00      1.00         3\n",
            "           3       1.00      1.00      1.00         3\n",
            "          30       1.00      1.00      1.00         3\n",
            "          31       1.00      1.00      1.00         3\n",
            "          32       1.00      0.67      0.80         3\n",
            "          33       1.00      1.00      1.00         3\n",
            "          34       1.00      1.00      1.00         3\n",
            "          35       1.00      1.00      1.00         3\n",
            "          36       1.00      0.33      0.50         3\n",
            "          37       0.75      1.00      0.86         3\n",
            "          38       0.75      1.00      0.86         3\n",
            "          39       1.00      1.00      1.00         3\n",
            "           4       0.75      1.00      0.86         3\n",
            "          40       1.00      0.67      0.80         3\n",
            "           5       0.67      0.67      0.67         3\n",
            "           6       1.00      1.00      1.00         3\n",
            "           7       0.75      1.00      0.86         3\n",
            "           8       1.00      1.00      1.00         3\n",
            "           9       1.00      1.00      1.00         3\n",
            "\n",
            "    accuracy                           0.91       120\n",
            "   macro avg       0.93      0.91      0.91       120\n",
            "weighted avg       0.93      0.91      0.91       120\n",
            "\n",
            "Acc for train--> 0.9035714285714286\n",
            "Acc for test--> 0.8333333333333334\n",
            "Classification report: \n",
            "              precision    recall  f1-score   support\n",
            "\n",
            "           1       1.00      0.67      0.80         3\n",
            "          10       1.00      0.67      0.80         3\n",
            "          11       1.00      0.67      0.80         3\n",
            "          12       1.00      1.00      1.00         3\n",
            "          13       0.75      1.00      0.86         3\n",
            "          14       1.00      0.67      0.80         3\n",
            "          15       0.60      1.00      0.75         3\n",
            "          16       1.00      1.00      1.00         3\n",
            "          17       0.50      1.00      0.67         3\n",
            "          18       0.75      1.00      0.86         3\n",
            "          19       1.00      0.67      0.80         3\n",
            "           2       0.75      1.00      0.86         3\n",
            "          20       1.00      1.00      1.00         3\n",
            "          21       0.75      1.00      0.86         3\n",
            "          22       0.75      1.00      0.86         3\n",
            "          23       1.00      0.67      0.80         3\n",
            "          24       1.00      1.00      1.00         3\n",
            "          25       0.67      0.67      0.67         3\n",
            "          26       1.00      1.00      1.00         3\n",
            "          27       1.00      1.00      1.00         3\n",
            "          28       0.50      0.67      0.57         3\n",
            "          29       1.00      1.00      1.00         3\n",
            "           3       0.75      1.00      0.86         3\n",
            "          30       1.00      1.00      1.00         3\n",
            "          31       1.00      0.67      0.80         3\n",
            "          32       1.00      0.67      0.80         3\n",
            "          33       1.00      1.00      1.00         3\n",
            "          34       1.00      1.00      1.00         3\n",
            "          35       0.00      0.00      0.00         3\n",
            "          36       0.00      0.00      0.00         3\n",
            "          37       0.50      0.33      0.40         3\n",
            "          38       0.75      1.00      0.86         3\n",
            "          39       1.00      1.00      1.00         3\n",
            "           4       1.00      1.00      1.00         3\n",
            "          40       0.67      0.67      0.67         3\n",
            "           5       0.50      0.67      0.57         3\n",
            "           6       1.00      1.00      1.00         3\n",
            "           7       0.75      1.00      0.86         3\n",
            "           8       1.00      1.00      1.00         3\n",
            "           9       1.00      1.00      1.00         3\n",
            "\n",
            "    accuracy                           0.83       120\n",
            "   macro avg       0.82      0.83      0.81       120\n",
            "weighted avg       0.82      0.83      0.81       120\n",
            "\n"
          ]
        },
        {
          "output_type": "stream",
          "name": "stderr",
          "text": [
            "/usr/local/lib/python3.9/dist-packages/sklearn/metrics/_classification.py:1344: UndefinedMetricWarning: Precision and F-score are ill-defined and being set to 0.0 in labels with no predicted samples. Use `zero_division` parameter to control this behavior.\n",
            "  _warn_prf(average, modifier, msg_start, len(result))\n",
            "/usr/local/lib/python3.9/dist-packages/sklearn/metrics/_classification.py:1344: UndefinedMetricWarning: Precision and F-score are ill-defined and being set to 0.0 in labels with no predicted samples. Use `zero_division` parameter to control this behavior.\n",
            "  _warn_prf(average, modifier, msg_start, len(result))\n",
            "/usr/local/lib/python3.9/dist-packages/sklearn/metrics/_classification.py:1344: UndefinedMetricWarning: Precision and F-score are ill-defined and being set to 0.0 in labels with no predicted samples. Use `zero_division` parameter to control this behavior.\n",
            "  _warn_prf(average, modifier, msg_start, len(result))\n"
          ]
        },
        {
          "output_type": "display_data",
          "data": {
            "text/plain": [
              "<Figure size 432x288 with 1 Axes>"
            ],
            "image/png": "[encoded data removed]"
          },
          "metadata": {
            "needs_background": "light"
          }
        }
      ],
      "source": [
        "for i in r:\n",
        "    U = eigen_vectors[:,0:i].T\n",
        "    projected_train_data = np.array(np.matmul(centralized_data, U.T))\n",
        "    projected_test_data = np.array(np.matmul(X_test - np.array(mean), U.T))\n",
        "    acc = []\n",
        "    k_values = [1, 3, 5, 7]\n",
        "    for k in k_values:\n",
        "        acc.append(classify(projected_train_data, y_train, projected_test_data, y_test, k))\n",
        "\n",
        "    plt.plot(k_values, acc)\n",
        "    plt.xlabel('Number of neighbors')\n",
        "    plt.ylabel('Acc')\n",
        "    plt.title('K tunning graph')\n",
        "    plt.show()"
      ]
    },
    {
      "cell_type": "markdown",
      "metadata": {
        "id": "kQgUHK3AL0PN"
      },
      "source": [
        "*  using LDA"
      ]
    },
    {
      "cell_type": "code",
      "execution_count": null,
      "metadata": {
        "id": "ZGaNjkrnH0Ek",
        "colab": {
          "base_uri": "https://localhost:8080/"
        },
        "outputId": "08b0ea6b-93a1-4b98-a09c-3234fd50b550"
      },
      "outputs": [
        {
          "output_type": "stream",
          "name": "stderr",
          "text": [
            "/usr/local/lib/python3.9/dist-packages/numpy/core/fromnumeric.py:3472: FutureWarning: In a future version, DataFrame.mean(axis=None) will return a scalar mean over the entire DataFrame. To retain the old behavior, use 'frame.mean(axis=0)' or just 'frame.mean()'\n",
            "  return mean(axis=axis, dtype=dtype, out=out, **kwargs)\n"
          ]
        }
      ],
      "source": [
        "# Calculating Mean Vector\n",
        "\n",
        "dimensions = 10304\n",
        "no_of_persons = 40\n",
        "\n",
        "mean_vector = dict()\n",
        "for person_no in range(1, no_of_persons + 1):\n",
        "  person_no = str(person_no)\n",
        "  person_data = train_data.loc[person_no]\n",
        "  mean = np.mean(person_data)\n",
        "  mean_vector[person_no] = mean"
      ]
    },
    {
      "cell_type": "code",
      "execution_count": null,
      "metadata": {
        "id": "K2chbRIaMpmG"
      },
      "outputs": [],
      "source": [
        "# Calculating S and Sb Matrices\n",
        "\n",
        "total_mean = np.mean(X_train)\n",
        "nk = 5\n",
        "\n",
        "S = np.zeros((dimensions,dimensions))\n",
        "SB = np.zeros((dimensions,dimensions))\n",
        "\n",
        "for person_no in range(1, no_of_persons+1):\n",
        "  person_no = str(person_no)\n",
        "  person_data = train_data.loc[person_no]\n",
        "  mean_vector[person_no]\n",
        "  Z = np.array(person_data - mean_vector[person_no])\n",
        "  S += Z.T.dot(Z)\n",
        "  diff = np.array(mean_vector[person_no] - total_mean)\n",
        "  SB += nk*diff.dot(diff.T)"
      ]
    },
    {
      "cell_type": "code",
      "execution_count": null,
      "metadata": {
        "id": "ooS5v9ITMpmH"
      },
      "outputs": [],
      "source": [
        "A = np.linalg.inv(S).dot(SB)\n",
        "eigen_values, eigen_vectors = np.linalg.eigh(A)\n",
        "idx = eigen_values.argsort()[::-1]   \n",
        "eig_values = eigen_values[idx]\n",
        "eig_vectors = eigen_vectors[:,idx]\n",
        "U = eig_vectors[:, 0:39].T"
      ]
    },
    {
      "cell_type": "code",
      "execution_count": null,
      "metadata": {
        "id": "QBxK5ZP0MpmI",
        "colab": {
          "base_uri": "https://localhost:8080/",
          "height": 1000
        },
        "outputId": "5cd1be50-8abd-4abc-c6b9-730200223077"
      },
      "outputs": [
        {
          "output_type": "stream",
          "name": "stdout",
          "text": [
            "Acc for train--> 1.0\n",
            "Acc for test--> 0.9166666666666666\n",
            "Classification report: \n",
            "              precision    recall  f1-score   support\n",
            "\n",
            "           1       1.00      0.67      0.80         3\n",
            "          10       1.00      0.67      0.80         3\n",
            "          11       1.00      1.00      1.00         3\n",
            "          12       1.00      1.00      1.00         3\n",
            "          13       1.00      1.00      1.00         3\n",
            "          14       1.00      0.67      0.80         3\n",
            "          15       1.00      1.00      1.00         3\n",
            "          16       0.75      1.00      0.86         3\n",
            "          17       0.75      1.00      0.86         3\n",
            "          18       1.00      1.00      1.00         3\n",
            "          19       1.00      0.67      0.80         3\n",
            "           2       1.00      1.00      1.00         3\n",
            "          20       1.00      0.33      0.50         3\n",
            "          21       1.00      1.00      1.00         3\n",
            "          22       1.00      1.00      1.00         3\n",
            "          23       1.00      1.00      1.00         3\n",
            "          24       1.00      1.00      1.00         3\n",
            "          25       0.75      1.00      0.86         3\n",
            "          26       1.00      1.00      1.00         3\n",
            "          27       1.00      1.00      1.00         3\n",
            "          28       1.00      0.67      0.80         3\n",
            "          29       1.00      1.00      1.00         3\n",
            "           3       1.00      1.00      1.00         3\n",
            "          30       1.00      1.00      1.00         3\n",
            "          31       1.00      1.00      1.00         3\n",
            "          32       0.75      1.00      0.86         3\n",
            "          33       1.00      1.00      1.00         3\n",
            "          34       1.00      1.00      1.00         3\n",
            "          35       0.67      0.67      0.67         3\n",
            "          36       1.00      1.00      1.00         3\n",
            "          37       0.75      1.00      0.86         3\n",
            "          38       0.60      1.00      0.75         3\n",
            "          39       1.00      1.00      1.00         3\n",
            "           4       0.75      1.00      0.86         3\n",
            "          40       0.75      1.00      0.86         3\n",
            "           5       1.00      0.67      0.80         3\n",
            "           6       1.00      1.00      1.00         3\n",
            "           7       1.00      0.67      0.80         3\n",
            "           8       1.00      1.00      1.00         3\n",
            "           9       1.00      1.00      1.00         3\n",
            "\n",
            "    accuracy                           0.92       120\n",
            "   macro avg       0.94      0.92      0.91       120\n",
            "weighted avg       0.94      0.92      0.91       120\n",
            "\n",
            "Acc for train--> 0.9892857142857143\n",
            "Acc for test--> 0.8833333333333333\n",
            "Classification report: \n",
            "              precision    recall  f1-score   support\n",
            "\n",
            "           1       1.00      0.67      0.80         3\n",
            "          10       1.00      0.67      0.80         3\n",
            "          11       1.00      1.00      1.00         3\n",
            "          12       1.00      1.00      1.00         3\n",
            "          13       1.00      1.00      1.00         3\n",
            "          14       1.00      1.00      1.00         3\n",
            "          15       0.75      1.00      0.86         3\n",
            "          16       1.00      1.00      1.00         3\n",
            "          17       0.50      1.00      0.67         3\n",
            "          18       1.00      0.67      0.80         3\n",
            "          19       1.00      0.67      0.80         3\n",
            "           2       1.00      1.00      1.00         3\n",
            "          20       1.00      0.33      0.50         3\n",
            "          21       1.00      1.00      1.00         3\n",
            "          22       1.00      1.00      1.00         3\n",
            "          23       1.00      1.00      1.00         3\n",
            "          24       1.00      1.00      1.00         3\n",
            "          25       0.60      1.00      0.75         3\n",
            "          26       1.00      1.00      1.00         3\n",
            "          27       1.00      0.67      0.80         3\n",
            "          28       1.00      0.67      0.80         3\n",
            "          29       1.00      0.67      0.80         3\n",
            "           3       1.00      1.00      1.00         3\n",
            "          30       0.75      1.00      0.86         3\n",
            "          31       1.00      1.00      1.00         3\n",
            "          32       0.75      1.00      0.86         3\n",
            "          33       1.00      1.00      1.00         3\n",
            "          34       1.00      1.00      1.00         3\n",
            "          35       1.00      0.33      0.50         3\n",
            "          36       1.00      0.67      0.80         3\n",
            "          37       1.00      1.00      1.00         3\n",
            "          38       0.75      1.00      0.86         3\n",
            "          39       0.75      1.00      0.86         3\n",
            "           4       0.60      1.00      0.75         3\n",
            "          40       0.75      1.00      0.86         3\n",
            "           5       0.67      0.67      0.67         3\n",
            "           6       1.00      1.00      1.00         3\n",
            "           7       1.00      0.67      0.80         3\n",
            "           8       1.00      1.00      1.00         3\n",
            "           9       1.00      1.00      1.00         3\n",
            "\n",
            "    accuracy                           0.88       120\n",
            "   macro avg       0.92      0.88      0.88       120\n",
            "weighted avg       0.92      0.88      0.88       120\n",
            "\n",
            "Acc for train--> 0.9285714285714286\n",
            "Acc for test--> 0.825\n",
            "Classification report: \n",
            "              precision    recall  f1-score   support\n",
            "\n",
            "           1       1.00      0.33      0.50         3\n",
            "          10       1.00      0.67      0.80         3\n",
            "          11       1.00      1.00      1.00         3\n",
            "          12       1.00      1.00      1.00         3\n",
            "          13       1.00      1.00      1.00         3\n",
            "          14       1.00      0.33      0.50         3\n",
            "          15       0.75      1.00      0.86         3\n",
            "          16       0.75      1.00      0.86         3\n",
            "          17       0.50      1.00      0.67         3\n",
            "          18       0.75      1.00      0.86         3\n",
            "          19       1.00      0.33      0.50         3\n",
            "           2       1.00      1.00      1.00         3\n",
            "          20       1.00      0.33      0.50         3\n",
            "          21       0.50      1.00      0.67         3\n",
            "          22       1.00      1.00      1.00         3\n",
            "          23       0.75      1.00      0.86         3\n",
            "          24       1.00      1.00      1.00         3\n",
            "          25       0.60      1.00      0.75         3\n",
            "          26       1.00      1.00      1.00         3\n",
            "          27       0.67      0.67      0.67         3\n",
            "          28       1.00      0.67      0.80         3\n",
            "          29       1.00      0.67      0.80         3\n",
            "           3       1.00      1.00      1.00         3\n",
            "          30       1.00      1.00      1.00         3\n",
            "          31       1.00      0.33      0.50         3\n",
            "          32       0.75      1.00      0.86         3\n",
            "          33       1.00      1.00      1.00         3\n",
            "          34       1.00      1.00      1.00         3\n",
            "          35       1.00      0.33      0.50         3\n",
            "          36       1.00      0.33      0.50         3\n",
            "          37       0.60      1.00      0.75         3\n",
            "          38       0.50      0.67      0.57         3\n",
            "          39       0.75      1.00      0.86         3\n",
            "           4       0.60      1.00      0.75         3\n",
            "          40       1.00      1.00      1.00         3\n",
            "           5       1.00      0.67      0.80         3\n",
            "           6       1.00      1.00      1.00         3\n",
            "           7       1.00      0.67      0.80         3\n",
            "           8       1.00      1.00      1.00         3\n",
            "           9       1.00      1.00      1.00         3\n",
            "\n",
            "    accuracy                           0.82       120\n",
            "   macro avg       0.89      0.82      0.81       120\n",
            "weighted avg       0.89      0.82      0.81       120\n",
            "\n",
            "Acc for train--> 0.8535714285714285\n",
            "Acc for test--> 0.725\n",
            "Classification report: \n",
            "              precision    recall  f1-score   support\n",
            "\n",
            "           1       1.00      0.67      0.80         3\n",
            "          10       1.00      0.67      0.80         3\n",
            "          11       1.00      1.00      1.00         3\n",
            "          12       1.00      0.67      0.80         3\n",
            "          13       1.00      1.00      1.00         3\n",
            "          14       0.00      0.00      0.00         3\n",
            "          15       0.67      0.67      0.67         3\n",
            "          16       1.00      1.00      1.00         3\n",
            "          17       0.25      0.33      0.29         3\n",
            "          18       0.75      1.00      0.86         3\n",
            "          19       1.00      0.33      0.50         3\n",
            "           2       0.75      1.00      0.86         3\n",
            "          20       1.00      0.33      0.50         3\n",
            "          21       0.60      1.00      0.75         3\n",
            "          22       1.00      1.00      1.00         3\n",
            "          23       1.00      0.67      0.80         3\n",
            "          24       1.00      1.00      1.00         3\n",
            "          25       0.50      1.00      0.67         3\n",
            "          26       1.00      1.00      1.00         3\n",
            "          27       0.33      0.33      0.33         3\n",
            "          28       0.00      0.00      0.00         3\n",
            "          29       0.75      1.00      0.86         3\n",
            "           3       1.00      1.00      1.00         3\n",
            "          30       1.00      1.00      1.00         3\n",
            "          31       1.00      0.33      0.50         3\n",
            "          32       0.60      1.00      0.75         3\n",
            "          33       1.00      1.00      1.00         3\n",
            "          34       1.00      1.00      1.00         3\n",
            "          35       0.00      0.00      0.00         3\n",
            "          36       1.00      0.67      0.80         3\n",
            "          37       0.29      0.67      0.40         3\n",
            "          38       0.60      1.00      0.75         3\n",
            "          39       1.00      0.67      0.80         3\n",
            "           4       0.43      1.00      0.60         3\n",
            "          40       1.00      0.33      0.50         3\n",
            "           5       0.50      0.67      0.57         3\n",
            "           6       1.00      1.00      1.00         3\n",
            "           7       0.40      0.67      0.50         3\n",
            "           8       1.00      0.33      0.50         3\n",
            "           9       1.00      1.00      1.00         3\n",
            "\n",
            "    accuracy                           0.73       120\n",
            "   macro avg       0.76      0.72      0.70       120\n",
            "weighted avg       0.76      0.72      0.70       120\n",
            "\n"
          ]
        },
        {
          "output_type": "stream",
          "name": "stderr",
          "text": [
            "/usr/local/lib/python3.9/dist-packages/sklearn/metrics/_classification.py:1344: UndefinedMetricWarning: Precision and F-score are ill-defined and being set to 0.0 in labels with no predicted samples. Use `zero_division` parameter to control this behavior.\n",
            "  _warn_prf(average, modifier, msg_start, len(result))\n",
            "/usr/local/lib/python3.9/dist-packages/sklearn/metrics/_classification.py:1344: UndefinedMetricWarning: Precision and F-score are ill-defined and being set to 0.0 in labels with no predicted samples. Use `zero_division` parameter to control this behavior.\n",
            "  _warn_prf(average, modifier, msg_start, len(result))\n",
            "/usr/local/lib/python3.9/dist-packages/sklearn/metrics/_classification.py:1344: UndefinedMetricWarning: Precision and F-score are ill-defined and being set to 0.0 in labels with no predicted samples. Use `zero_division` parameter to control this behavior.\n",
            "  _warn_prf(average, modifier, msg_start, len(result))\n"
          ]
        },
        {
          "output_type": "display_data",
          "data": {
            "text/plain": [
              "<Figure size 432x288 with 1 Axes>"
            ],
            "image/png": "[encoded data removed]"
          },
          "metadata": {
            "needs_background": "light"
          }
        }
      ],
      "source": [
        "projected_train_data = np.array(np.matmul(X_train, U.T))\n",
        "projected_test_data = np.array(np.matmul(X_test, U.T))\n",
        "acc = []\n",
        "k_values = [1, 3, 5, 7]\n",
        "for k in k_values:\n",
        "    acc.append(classify(projected_train_data, y_train, projected_test_data, y_test, k))\n",
        "\n",
        "plt.plot(k_values, acc)\n",
        "plt.xlabel('Number of neighbors')\n",
        "plt.ylabel('Acc')\n",
        "plt.title('K tunning graph')\n",
        "plt.show()"
      ]
    },
    {
      "cell_type": "markdown",
      "metadata": {
        "id": "WJnv6nndQ6ht"
      },
      "source": [
        "2. Diffrent variations of PCA and LDA"
      ]
    },
    {
      "cell_type": "code",
      "source": [
        "from sklearn.discriminant_analysis import LinearDiscriminantAnalysis as LDA\n",
        "from sklearn.neighbors import KNeighborsClassifier\n",
        "from sklearn.metrics import accuracy_score\n",
        "from sklearn.decomposition import PCA\n",
        "from sklearn.decomposition import IncrementalPCA\n",
        "from sklearn.decomposition import PCA as RandomizedPCA"
      ],
      "metadata": {
        "id": "rxCvEKfeUJYy"
      },
      "execution_count": null,
      "outputs": []
    },
    {
      "cell_type": "code",
      "execution_count": null,
      "metadata": {
        "colab": {
          "base_uri": "https://localhost:8080/"
        },
        "outputId": "eda577b5-3343-471e-d5a3-adab4f1e9d6e",
        "id": "YfqS27hFQ6hu"
      },
      "outputs": [
        {
          "output_type": "stream",
          "name": "stdout",
          "text": [
            "Reading Started\n",
            "Reading Finished\n",
            "number of images 400\n",
            "length of image  10304\n",
            "number of faces 400\n"
          ]
        }
      ],
      "source": [
        "(data, labels) = get_images()\n",
        "X_train, y_train, X_test, y_test = custom_train_test_split(data, labels, len(data))\n",
        "train_data = pd.DataFrame(X_train,index=y_train)"
      ]
    },
    {
      "cell_type": "code",
      "execution_count": null,
      "metadata": {
        "colab": {
          "base_uri": "https://localhost:8080/",
          "height": 424
        },
        "outputId": "8cbb7708-e044-498b-817d-3f7a713eeaf2",
        "id": "Fa9M8aaOQ6hw"
      },
      "outputs": [
        {
          "output_type": "execute_result",
          "data": {
            "text/plain": [
              "          0         1         2         3         4         5         6      \\\n",
              "0      1.000000  0.993917  0.994049  0.991621  0.989805  0.988234  0.987932   \n",
              "1      0.993917  1.000000  0.994208  0.993928  0.992347  0.990249  0.988537   \n",
              "2      0.994049  0.994208  1.000000  0.993781  0.992975  0.990156  0.990260   \n",
              "3      0.991621  0.993928  0.993781  1.000000  0.993558  0.993875  0.991080   \n",
              "4      0.989805  0.992347  0.992975  0.993558  1.000000  0.994016  0.992320   \n",
              "...         ...       ...       ...       ...       ...       ...       ...   \n",
              "10299 -0.090967 -0.088436 -0.091367 -0.093395 -0.085290 -0.089117 -0.099639   \n",
              "10300 -0.130907 -0.126549 -0.127187 -0.129078 -0.123286 -0.124665 -0.133847   \n",
              "10301 -0.129705 -0.121066 -0.119964 -0.119111 -0.114990 -0.111667 -0.121163   \n",
              "10302 -0.078168 -0.070503 -0.061883 -0.065801 -0.056735 -0.053729 -0.058455   \n",
              "10303 -0.046877 -0.040262 -0.030734 -0.030919 -0.023562 -0.022498 -0.031316   \n",
              "\n",
              "          7         8         9      ...     10294     10295     10296  \\\n",
              "0      0.990593  0.988613  0.985969  ... -0.178104 -0.102090 -0.082148   \n",
              "1      0.991976  0.990288  0.987817  ... -0.172560 -0.095658 -0.075553   \n",
              "2      0.992834  0.989961  0.987165  ... -0.176851 -0.095880 -0.073182   \n",
              "3      0.992226  0.990662  0.986693  ... -0.173488 -0.101955 -0.082676   \n",
              "4      0.992037  0.988982  0.986209  ... -0.167108 -0.089538 -0.067058   \n",
              "...         ...       ...       ...  ...       ...       ...       ...   \n",
              "10299 -0.102459 -0.108833 -0.114306  ...  0.667187  0.797621  0.830593   \n",
              "10300 -0.133286 -0.140945 -0.144499  ...  0.636590  0.783629  0.794565   \n",
              "10301 -0.119280 -0.130618 -0.137400  ...  0.505542  0.681472  0.720166   \n",
              "10302 -0.060326 -0.073999 -0.081715  ...  0.500382  0.611897  0.651489   \n",
              "10303 -0.030478 -0.041507 -0.050210  ...  0.514043  0.621034  0.658271   \n",
              "\n",
              "          10297     10298     10299     10300     10301     10302     10303  \n",
              "0     -0.090748 -0.080551 -0.090967 -0.130907 -0.129705 -0.078168 -0.046877  \n",
              "1     -0.088460 -0.079605 -0.088436 -0.126549 -0.121066 -0.070503 -0.040262  \n",
              "2     -0.086343 -0.079831 -0.091367 -0.127187 -0.119964 -0.061883 -0.030734  \n",
              "3     -0.092795 -0.086402 -0.093395 -0.129078 -0.119111 -0.065801 -0.030919  \n",
              "4     -0.080383 -0.072927 -0.085290 -0.123286 -0.114990 -0.056735 -0.023562  \n",
              "...         ...       ...       ...       ...       ...       ...       ...  \n",
              "10299  0.859008  0.919842  1.000000  0.929693  0.780998  0.714309  0.739523  \n",
              "10300  0.817082  0.854039  0.929693  1.000000  0.872810  0.797540  0.814229  \n",
              "10301  0.748969  0.780338  0.780998  0.872810  1.000000  0.897711  0.847747  \n",
              "10302  0.683402  0.701685  0.714309  0.797540  0.897711  1.000000  0.943634  \n",
              "10303  0.677211  0.695250  0.739523  0.814229  0.847747  0.943634  1.000000  \n",
              "\n",
              "[10304 rows x 10304 columns]"
            ],
            "text/html": [
              "\n",
              "  <div id=\"df-a186eeab-8686-4079-ac20-5a2b5fefeff2\">\n",
              "    <div class=\"colab-df-container\">\n",
              "      <div>\n",
              "<style scoped>\n",
              "    .dataframe tbody tr th:only-of-type {\n",
              "        vertical-align: middle;\n",
              "    }\n",
              "\n",
              "    .dataframe tbody tr th {\n",
              "        vertical-align: top;\n",
              "    }\n",
              "\n",
              "    .dataframe thead th {\n",
              "        text-align: right;\n",
              "    }\n",
              "</style>\n",
              "<table border=\"1\" class=\"dataframe\">\n",
              "  <thead>\n",
              "    <tr style=\"text-align: right;\">\n",
              "      <th></th>\n",
              "      <th>0</th>\n",
              "      <th>1</th>\n",
              "      <th>2</th>\n",
              "      <th>3</th>\n",
              "      <th>4</th>\n",
              "      <th>5</th>\n",
              "      <th>6</th>\n",
              "      <th>7</th>\n",
              "      <th>8</th>\n",
              "      <th>9</th>\n",
              "      <th>...</th>\n",
              "      <th>10294</th>\n",
              "      <th>10295</th>\n",
              "      <th>10296</th>\n",
              "      <th>10297</th>\n",
              "      <th>10298</th>\n",
              "      <th>10299</th>\n",
              "      <th>10300</th>\n",
              "      <th>10301</th>\n",
              "      <th>10302</th>\n",
              "      <th>10303</th>\n",
              "    </tr>\n",
              "  </thead>\n",
              "  <tbody>\n",
              "    <tr>\n",
              "      <th>0</th>\n",
              "      <td>1.000000</td>\n",
              "      <td>0.993917</td>\n",
              "      <td>0.994049</td>\n",
              "      <td>0.991621</td>\n",
              "      <td>0.989805</td>\n",
              "      <td>0.988234</td>\n",
              "      <td>0.987932</td>\n",
              "      <td>0.990593</td>\n",
              "      <td>0.988613</td>\n",
              "      <td>0.985969</td>\n",
              "      <td>...</td>\n",
              "      <td>-0.178104</td>\n",
              "      <td>-0.102090</td>\n",
              "      <td>-0.082148</td>\n",
              "      <td>-0.090748</td>\n",
              "      <td>-0.080551</td>\n",
              "      <td>-0.090967</td>\n",
              "      <td>-0.130907</td>\n",
              "      <td>-0.129705</td>\n",
              "      <td>-0.078168</td>\n",
              "      <td>-0.046877</td>\n",
              "    </tr>\n",
              "    <tr>\n",
              "      <th>1</th>\n",
              "      <td>0.993917</td>\n",
              "      <td>1.000000</td>\n",
              "      <td>0.994208</td>\n",
              "      <td>0.993928</td>\n",
              "      <td>0.992347</td>\n",
              "      <td>0.990249</td>\n",
              "      <td>0.988537</td>\n",
              "      <td>0.991976</td>\n",
              "      <td>0.990288</td>\n",
              "      <td>0.987817</td>\n",
              "      <td>...</td>\n",
              "      <td>-0.172560</td>\n",
              "      <td>-0.095658</td>\n",
              "      <td>-0.075553</td>\n",
              "      <td>-0.088460</td>\n",
              "      <td>-0.079605</td>\n",
              "      <td>-0.088436</td>\n",
              "      <td>-0.126549</td>\n",
              "      <td>-0.121066</td>\n",
              "      <td>-0.070503</td>\n",
              "      <td>-0.040262</td>\n",
              "    </tr>\n",
              "    <tr>\n",
              "      <th>2</th>\n",
              "      <td>0.994049</td>\n",
              "      <td>0.994208</td>\n",
              "      <td>1.000000</td>\n",
              "      <td>0.993781</td>\n",
              "      <td>0.992975</td>\n",
              "      <td>0.990156</td>\n",
              "      <td>0.990260</td>\n",
              "      <td>0.992834</td>\n",
              "      <td>0.989961</td>\n",
              "      <td>0.987165</td>\n",
              "      <td>...</td>\n",
              "      <td>-0.176851</td>\n",
              "      <td>-0.095880</td>\n",
              "      <td>-0.073182</td>\n",
              "      <td>-0.086343</td>\n",
              "      <td>-0.079831</td>\n",
              "      <td>-0.091367</td>\n",
              "      <td>-0.127187</td>\n",
              "      <td>-0.119964</td>\n",
              "      <td>-0.061883</td>\n",
              "      <td>-0.030734</td>\n",
              "    </tr>\n",
              "    <tr>\n",
              "      <th>3</th>\n",
              "      <td>0.991621</td>\n",
              "      <td>0.993928</td>\n",
              "      <td>0.993781</td>\n",
              "      <td>1.000000</td>\n",
              "      <td>0.993558</td>\n",
              "      <td>0.993875</td>\n",
              "      <td>0.991080</td>\n",
              "      <td>0.992226</td>\n",
              "      <td>0.990662</td>\n",
              "      <td>0.986693</td>\n",
              "      <td>...</td>\n",
              "      <td>-0.173488</td>\n",
              "      <td>-0.101955</td>\n",
              "      <td>-0.082676</td>\n",
              "      <td>-0.092795</td>\n",
              "      <td>-0.086402</td>\n",
              "      <td>-0.093395</td>\n",
              "      <td>-0.129078</td>\n",
              "      <td>-0.119111</td>\n",
              "      <td>-0.065801</td>\n",
              "      <td>-0.030919</td>\n",
              "    </tr>\n",
              "    <tr>\n",
              "      <th>4</th>\n",
              "      <td>0.989805</td>\n",
              "      <td>0.992347</td>\n",
              "      <td>0.992975</td>\n",
              "      <td>0.993558</td>\n",
              "      <td>1.000000</td>\n",
              "      <td>0.994016</td>\n",
              "      <td>0.992320</td>\n",
              "      <td>0.992037</td>\n",
              "      <td>0.988982</td>\n",
              "      <td>0.986209</td>\n",
              "      <td>...</td>\n",
              "      <td>-0.167108</td>\n",
              "      <td>-0.089538</td>\n",
              "      <td>-0.067058</td>\n",
              "      <td>-0.080383</td>\n",
              "      <td>-0.072927</td>\n",
              "      <td>-0.085290</td>\n",
              "      <td>-0.123286</td>\n",
              "      <td>-0.114990</td>\n",
              "      <td>-0.056735</td>\n",
              "      <td>-0.023562</td>\n",
              "    </tr>\n",
              "    <tr>\n",
              "      <th>...</th>\n",
              "      <td>...</td>\n",
              "      <td>...</td>\n",
              "      <td>...</td>\n",
              "      <td>...</td>\n",
              "      <td>...</td>\n",
              "      <td>...</td>\n",
              "      <td>...</td>\n",
              "      <td>...</td>\n",
              "      <td>...</td>\n",
              "      <td>...</td>\n",
              "      <td>...</td>\n",
              "      <td>...</td>\n",
              "      <td>...</td>\n",
              "      <td>...</td>\n",
              "      <td>...</td>\n",
              "      <td>...</td>\n",
              "      <td>...</td>\n",
              "      <td>...</td>\n",
              "      <td>...</td>\n",
              "      <td>...</td>\n",
              "      <td>...</td>\n",
              "    </tr>\n",
              "    <tr>\n",
              "      <th>10299</th>\n",
              "      <td>-0.090967</td>\n",
              "      <td>-0.088436</td>\n",
              "      <td>-0.091367</td>\n",
              "      <td>-0.093395</td>\n",
              "      <td>-0.085290</td>\n",
              "      <td>-0.089117</td>\n",
              "      <td>-0.099639</td>\n",
              "      <td>-0.102459</td>\n",
              "      <td>-0.108833</td>\n",
              "      <td>-0.114306</td>\n",
              "      <td>...</td>\n",
              "      <td>0.667187</td>\n",
              "      <td>0.797621</td>\n",
              "      <td>0.830593</td>\n",
              "      <td>0.859008</td>\n",
              "      <td>0.919842</td>\n",
              "      <td>1.000000</td>\n",
              "      <td>0.929693</td>\n",
              "      <td>0.780998</td>\n",
              "      <td>0.714309</td>\n",
              "      <td>0.739523</td>\n",
              "    </tr>\n",
              "    <tr>\n",
              "      <th>10300</th>\n",
              "      <td>-0.130907</td>\n",
              "      <td>-0.126549</td>\n",
              "      <td>-0.127187</td>\n",
              "      <td>-0.129078</td>\n",
              "      <td>-0.123286</td>\n",
              "      <td>-0.124665</td>\n",
              "      <td>-0.133847</td>\n",
              "      <td>-0.133286</td>\n",
              "      <td>-0.140945</td>\n",
              "      <td>-0.144499</td>\n",
              "      <td>...</td>\n",
              "      <td>0.636590</td>\n",
              "      <td>0.783629</td>\n",
              "      <td>0.794565</td>\n",
              "      <td>0.817082</td>\n",
              "      <td>0.854039</td>\n",
              "      <td>0.929693</td>\n",
              "      <td>1.000000</td>\n",
              "      <td>0.872810</td>\n",
              "      <td>0.797540</td>\n",
              "      <td>0.814229</td>\n",
              "    </tr>\n",
              "    <tr>\n",
              "      <th>10301</th>\n",
              "      <td>-0.129705</td>\n",
              "      <td>-0.121066</td>\n",
              "      <td>-0.119964</td>\n",
              "      <td>-0.119111</td>\n",
              "      <td>-0.114990</td>\n",
              "      <td>-0.111667</td>\n",
              "      <td>-0.121163</td>\n",
              "      <td>-0.119280</td>\n",
              "      <td>-0.130618</td>\n",
              "      <td>-0.137400</td>\n",
              "      <td>...</td>\n",
              "      <td>0.505542</td>\n",
              "      <td>0.681472</td>\n",
              "      <td>0.720166</td>\n",
              "      <td>0.748969</td>\n",
              "      <td>0.780338</td>\n",
              "      <td>0.780998</td>\n",
              "      <td>0.872810</td>\n",
              "      <td>1.000000</td>\n",
              "      <td>0.897711</td>\n",
              "      <td>0.847747</td>\n",
              "    </tr>\n",
              "    <tr>\n",
              "      <th>10302</th>\n",
              "      <td>-0.078168</td>\n",
              "      <td>-0.070503</td>\n",
              "      <td>-0.061883</td>\n",
              "      <td>-0.065801</td>\n",
              "      <td>-0.056735</td>\n",
              "      <td>-0.053729</td>\n",
              "      <td>-0.058455</td>\n",
              "      <td>-0.060326</td>\n",
              "      <td>-0.073999</td>\n",
              "      <td>-0.081715</td>\n",
              "      <td>...</td>\n",
              "      <td>0.500382</td>\n",
              "      <td>0.611897</td>\n",
              "      <td>0.651489</td>\n",
              "      <td>0.683402</td>\n",
              "      <td>0.701685</td>\n",
              "      <td>0.714309</td>\n",
              "      <td>0.797540</td>\n",
              "      <td>0.897711</td>\n",
              "      <td>1.000000</td>\n",
              "      <td>0.943634</td>\n",
              "    </tr>\n",
              "    <tr>\n",
              "      <th>10303</th>\n",
              "      <td>-0.046877</td>\n",
              "      <td>-0.040262</td>\n",
              "      <td>-0.030734</td>\n",
              "      <td>-0.030919</td>\n",
              "      <td>-0.023562</td>\n",
              "      <td>-0.022498</td>\n",
              "      <td>-0.031316</td>\n",
              "      <td>-0.030478</td>\n",
              "      <td>-0.041507</td>\n",
              "      <td>-0.050210</td>\n",
              "      <td>...</td>\n",
              "      <td>0.514043</td>\n",
              "      <td>0.621034</td>\n",
              "      <td>0.658271</td>\n",
              "      <td>0.677211</td>\n",
              "      <td>0.695250</td>\n",
              "      <td>0.739523</td>\n",
              "      <td>0.814229</td>\n",
              "      <td>0.847747</td>\n",
              "      <td>0.943634</td>\n",
              "      <td>1.000000</td>\n",
              "    </tr>\n",
              "  </tbody>\n",
              "</table>\n",
              "<p>10304 rows × 10304 columns</p>\n",
              "</div>\n",
              "      <button class=\"colab-df-convert\" onclick=\"convertToInteractive('df-a186eeab-8686-4079-ac20-5a2b5fefeff2')\"\n",
              "              title=\"Convert this dataframe to an interactive table.\"\n",
              "              style=\"display:none;\">\n",
              "        \n",
              "  <svg xmlns=\"http://www.w3.org/2000/svg\" height=\"24px\"viewBox=\"0 0 24 24\"\n",
              "       width=\"24px\">\n",
              "    <path d=\"M0 0h24v24H0V0z\" fill=\"none\"/>\n",
              "    <path d=\"M18.56 5.44l.94 2.06.94-2.06 2.06-.94-2.06-.94-.94-2.06-.94 2.06-2.06.94zm-11 1L8.5 8.5l.94-2.06 2.06-.94-2.06-.94L8.5 2.5l-.94 2.06-2.06.94zm10 10l.94 2.06.94-2.06 2.06-.94-2.06-.94-.94-2.06-.94 2.06-2.06.94z\"/><path d=\"M17.41 7.96l-1.37-1.37c-.4-.4-.92-.59-1.43-.59-.52 0-1.04.2-1.43.59L10.3 9.45l-7.72 7.72c-.78.78-.78 2.05 0 2.83L4 21.41c.39.39.9.59 1.41.59.51 0 1.02-.2 1.41-.59l7.78-7.78 2.81-2.81c.8-.78.8-2.07 0-2.86zM5.41 20L4 18.59l7.72-7.72 1.47 1.35L5.41 20z\"/>\n",
              "  </svg>\n",
              "      </button>\n",
              "      \n",
              "  <style>\n",
              "    .colab-df-container {\n",
              "      display:flex;\n",
              "      flex-wrap:wrap;\n",
              "      gap: 12px;\n",
              "    }\n",
              "\n",
              "    .colab-df-convert {\n",
              "      background-color: #E8F0FE;\n",
              "      border: none;\n",
              "      border-radius: 50%;\n",
              "      cursor: pointer;\n",
              "      display: none;\n",
              "      fill: #1967D2;\n",
              "      height: 32px;\n",
              "      padding: 0 0 0 0;\n",
              "      width: 32px;\n",
              "    }\n",
              "\n",
              "    .colab-df-convert:hover {\n",
              "      background-color: #E2EBFA;\n",
              "      box-shadow: 0px 1px 2px rgba(60, 64, 67, 0.3), 0px 1px 3px 1px rgba(60, 64, 67, 0.15);\n",
              "      fill: #174EA6;\n",
              "    }\n",
              "\n",
              "    [theme=dark] .colab-df-convert {\n",
              "      background-color: #3B4455;\n",
              "      fill: #D2E3FC;\n",
              "    }\n",
              "\n",
              "    [theme=dark] .colab-df-convert:hover {\n",
              "      background-color: #434B5C;\n",
              "      box-shadow: 0px 1px 3px 1px rgba(0, 0, 0, 0.15);\n",
              "      filter: drop-shadow(0px 1px 2px rgba(0, 0, 0, 0.3));\n",
              "      fill: #FFFFFF;\n",
              "    }\n",
              "  </style>\n",
              "\n",
              "      <script>\n",
              "        const buttonEl =\n",
              "          document.querySelector('#df-a186eeab-8686-4079-ac20-5a2b5fefeff2 button.colab-df-convert');\n",
              "        buttonEl.style.display =\n",
              "          google.colab.kernel.accessAllowed ? 'block' : 'none';\n",
              "\n",
              "        async function convertToInteractive(key) {\n",
              "          const element = document.querySelector('#df-a186eeab-8686-4079-ac20-5a2b5fefeff2');\n",
              "          const dataTable =\n",
              "            await google.colab.kernel.invokeFunction('convertToInteractive',\n",
              "                                                     [key], {});\n",
              "          if (!dataTable) return;\n",
              "\n",
              "          const docLinkHtml = 'Like what you see? Visit the ' +\n",
              "            '<a target=\"_blank\" href=https://colab.research.google.com/notebooks/data_table.ipynb>data table notebook</a>'\n",
              "            + ' to learn more about interactive tables.';\n",
              "          element.innerHTML = '';\n",
              "          dataTable['output_type'] = 'display_data';\n",
              "          await google.colab.output.renderOutput(dataTable, element);\n",
              "          const docLink = document.createElement('div');\n",
              "          docLink.innerHTML = docLinkHtml;\n",
              "          element.appendChild(docLink);\n",
              "        }\n",
              "      </script>\n",
              "    </div>\n",
              "  </div>\n",
              "  "
            ]
          },
          "metadata": {},
          "execution_count": 39
        }
      ],
      "source": [
        "train_data.corr()"
      ]
    },
    {
      "cell_type": "markdown",
      "metadata": {
        "id": "98Ff5AgEQ6hw"
      },
      "source": [
        "*  pca"
      ]
    },
    {
      "cell_type": "code",
      "source": [
        "\n",
        "\n",
        "pca = PCA()\n",
        "train_pca = pca.fit_transform(X_train)\n",
        "\n",
        "# Plot the scree plot\n",
        "plt.plot(np.cumsum(pca.explained_variance_ratio_))\n",
        "plt.xlabel('Number of Components')\n",
        "plt.ylabel('Cumulative Explained Variance')\n",
        "plt.show()\n"
      ],
      "metadata": {
        "colab": {
          "base_uri": "https://localhost:8080/",
          "height": 279
        },
        "id": "GMAYCGgBCYzc",
        "outputId": "c773c627-e4c0-4425-bdd8-d5af16d88411"
      },
      "execution_count": null,
      "outputs": [
        {
          "output_type": "display_data",
          "data": {
            "text/plain": [
              "<Figure size 432x288 with 1 Axes>"
            ],
            "image/png": "[encoded data removed]"
          },
          "metadata": {
            "needs_background": "light"
          }
        }
      ]
    },
    {
      "cell_type": "code",
      "source": [
        "\n",
        "\n",
        "# Perform IPCA on the training faces\n",
        "ipca = IncrementalPCA(n_components=60)\n",
        "for batch in np.array_split(X_train, 3):\n",
        "    ipca.partial_fit(batch)\n",
        "train_ipca = ipca.transform(X_train)\n",
        "test_ipca = ipca.transform(X_test)\n",
        "k_values = [1, 3, 5, 7]\n",
        "for k in k_values:\n",
        "# Train a k-NN classifier using the IPCA-reduced features\n",
        "  knn_ipca = KNeighborsClassifier(n_neighbors=k)\n",
        "  knn_ipca.fit(train_ipca, y_train)\n",
        "\n",
        "# Evaluate the performance of the classifier on the testing set\n",
        "\n",
        "  accuracy_ipca = knn_ipca.score(test_ipca, y_test)\n",
        "\n",
        "  print('Accuracy with Randomized PCA: %.2f ' % accuracy_ipca ,'k=%.0f'%k)\n"
      ],
      "metadata": {
        "colab": {
          "base_uri": "https://localhost:8080/"
        },
        "id": "1Njh1pxW-YOv",
        "outputId": "57653321-450d-4020-d010-0eb76fd4ef10"
      },
      "execution_count": null,
      "outputs": [
        {
          "output_type": "stream",
          "name": "stdout",
          "text": [
            "Accuracy with Randomized PCA: 0.94  k=1\n",
            "Accuracy with Randomized PCA: 0.86  k=3\n",
            "Accuracy with Randomized PCA: 0.84  k=5\n",
            "Accuracy with Randomized PCA: 0.79  k=7\n"
          ]
        }
      ]
    },
    {
      "cell_type": "code",
      "source": [
        "\n",
        "\n",
        "# Perform Randomized PCA on the training faces\n",
        "rpca = RandomizedPCA(n_components=50)\n",
        "train_rpca = rpca.fit_transform(X_train)\n",
        "\n",
        "\n",
        "k_values = [1, 3, 5, 7]\n",
        "for k in k_values:\n",
        "  # Train a k-NN classifier using the Randomized PCA-reduced features\n",
        "    knn_rpca = KNeighborsClassifier(n_neighbors=k)\n",
        "    knn_rpca.fit(train_rpca, y_train)\n",
        "\n",
        "# Evaluate the performance of the classifier on the testing set\n",
        "    test_rpca = rpca.transform(X_test)\n",
        "    accuracy_rpca = knn_rpca.score(test_rpca, y_test)\n",
        "\n",
        "    print('Accuracy with Randomized PCA: %.2f ' % accuracy_rpca ,'k=%.0f'%k)"
      ],
      "metadata": {
        "colab": {
          "base_uri": "https://localhost:8080/"
        },
        "id": "tOKg-hdM_Urp",
        "outputId": "7cf4426a-f69c-4a4f-c559-ab42854fac88"
      },
      "execution_count": null,
      "outputs": [
        {
          "output_type": "stream",
          "name": "stdout",
          "text": [
            "Accuracy with Randomized PCA: 0.94  k=1\n",
            "Accuracy with Randomized PCA: 0.87  k=3\n",
            "Accuracy with Randomized PCA: 0.84  k=5\n",
            "Accuracy with Randomized PCA: 0.79  k=7\n"
          ]
        }
      ]
    },
    {
      "cell_type": "markdown",
      "source": [
        "*  lda"
      ],
      "metadata": {
        "id": "4jA3-zRlNuWj"
      }
    },
    {
      "cell_type": "code",
      "source": [
        "\n",
        "\n",
        "# Apply Fisher's LDA to further reduce the dimensionality of the dataset\n",
        "n_lda_components = 20\n",
        "lda = LDA(n_components=n_lda_components, solver='svd')\n",
        "X_train_lda = lda.fit_transform(X_train, y_train)\n",
        "X_test_lda = lda.transform(X_test)\n",
        "\n",
        "# Train the k-NN classifier\n",
        "k_values = [1, 3, 5, 7]\n",
        "for k in k_values:\n",
        "    knn = KNeighborsClassifier(n_neighbors=k)\n",
        "    knn.fit(X_train_lda, y_train)\n",
        "\n",
        "# Test the k-NN classifier\n",
        "    y_pred = knn.predict(X_test_lda)\n",
        "    accuracy = accuracy_score(y_test, y_pred)\n",
        "    print('Accuracy: {:.2f}%'.format(accuracy * 100),'k=%.0f'%k)  "
      ],
      "metadata": {
        "colab": {
          "base_uri": "https://localhost:8080/"
        },
        "id": "dg3tPuXhAK9M",
        "outputId": "4d65ccc9-eb81-40bc-8bb1-333883dda1d5"
      },
      "execution_count": null,
      "outputs": [
        {
          "output_type": "stream",
          "name": "stdout",
          "text": [
            "Accuracy: 95.50% k=1\n",
            "Accuracy: 93.50% k=3\n",
            "Accuracy: 91.00% k=5\n",
            "Accuracy: 91.50% k=7\n"
          ]
        }
      ]
    }
  ],
  "metadata": {
    "colab": {
      "provenance": [],
      "include_colab_link": true
    },
    "gpuClass": "standard",
    "kernelspec": {
      "display_name": "Python 3",
      "name": "python3"
    },
    "language_info": {
      "name": "python"
    }
  },
  "nbformat": 4,
  "nbformat_minor": 0
}